{
  "cells": [
    {
      "cell_type": "markdown",
      "metadata": {
        "id": "WX_5r95WHN9Y"
      },
      "source": [
        "# HSE 2023: Mathematical Methods of Data Analysis\n",
        "\n",
        "## Seminar 1: Intro to Python for Data Analysis"
      ]
    },
    {
      "cell_type": "markdown",
      "metadata": {
        "id": "iTuSLihmHN9Z"
      },
      "source": [
        "**Lecturer**: Polina Polunina\n",
        "\n",
        "**tg**: @ppolunina\n",
        "\n",
        "**10.09.2023**"
      ]
    },
    {
      "cell_type": "markdown",
      "metadata": {
        "id": "mgqHJ16eHN9Z"
      },
      "source": [
        "**Today**:\n",
        "- Jupyter, Colab, Anaconda\n",
        "- Basic structures\n",
        "- Functions & cycles\n",
        "- Data manipulations with Numpy, Scipy, Pandas\n",
        "- Data visualization with Matplotlib\n",
        "\n",
        "**On top**:\n",
        "- More detailed code notebooks to get acquainted with Python\n",
        "\n",
        "**Data for the Seminar**\n",
        "<a href=\"https://drive.google.com/drive/folders/1LeZ6JutPcRELcTi198AJe2n0tvgh_AAD?usp=sharing\">here</a>"
      ]
    },
    {
      "cell_type": "markdown",
      "metadata": {
        "id": "z_qG66TqHN9a"
      },
      "source": [
        "# Why Python\n",
        "\n",
        "**Python** is an interpreted, high-level and general-purpose programming language. Python's design philosophy emphasizes code readability with its notable use of significant whitespace. (Wiki)\n",
        "\n",
        "1) Open-source <br>\n",
        "2) A lot of libraries, i.e. code for any specific problem\n",
        "\n"
      ]
    },
    {
      "cell_type": "markdown",
      "metadata": {
        "id": "JNa6pJ_LHN9a"
      },
      "source": [
        "# Jupyter Notebook\n",
        "\n",
        "We are inside **Jupyter Notebook**.\n",
        "\n",
        "The <a href=\"https://jupyter.org/\">Jupyter Notebook</a> is an open-source web application that allows you to create and share documents that contain live code, equations, visualizations and narrative text. Uses include: data cleaning and transformation, numerical simulation, statistical modeling, data visualization, machine learning, and much more.\n",
        "\n",
        "The file we are working on now is called a **notebook**. Its standard extension is .ipynb, and it can be read and run through the Jupyter Notebook. But it can be downloaded as an html page or pdf document."
      ]
    },
    {
      "cell_type": "markdown",
      "metadata": {
        "id": "RmG_HEsHHN9a"
      },
      "source": [
        "# Anaconda Distribution\n",
        "\n",
        "<a href=\"https://www.anaconda.com/products/individual\">Anaconda distribution</a> is a collection of data analysis tools in Python. It contains Jupyter Notebook, libraries for Python and other tools.\n",
        "\n",
        "The most useful libraries:\n",
        " - <a href=\"http://numpy.org\">Numpy</a> - is one of the main packages for scientific computing. It contains functionality for working with multidimensional arrays and high-level math functions.\n",
        " - <a href=\"http://numpy.org\">SciPy</a> - scientific computing. Optimization methods, integration, signal and image processing modules, statistics, linear algebra, splines, clustering and much more.\n",
        " -  <a href=\"http://pandas.pydata.org/\">Pandas</a> - a library for data processing and analysis. Designed for data of different nature - matrix, panel data, time series. Claims to be the most powerful and flexible analysis tool\n",
        " - <a href=\"http://scikit-learn.org/stable/\">Scikit-learn</a> - implementation of machine learning and data mining methods with excellent documentation.\n",
        " - <a href=\"http://http://matplotlib.org/\">Matplotlib</a> - library for data visualization, mainly 2D graphics.\n",
        " - <a href=\"https://pypi.org/project/seaborn/\">Seaborn</a> - a data visualization library based on matplotlib. It provides a high-level interface for drawing attractive and informative statistical graphics"
      ]
    },
    {
      "cell_type": "markdown",
      "metadata": {
        "id": "1IJf4V52HN9a"
      },
      "source": [
        "# How Jupyter Notebook Works\n",
        "\n",
        "- Any notebook consists of **cells**. Even the current text is written in the cell. <br>\n",
        "\n",
        "## New cell\n",
        "- To create a new cell, you can use one of the following options: <br>\n",
        "     1) use the \"+\" button on the top control panel; <br>\n",
        "     2) press the letter \"B\" from the keyboard, and a new cell will appear after the current active one; <br>\n",
        "     3) from the keyboard press the letter \"A\", and a new cell will appear before the current active one. <br>\n",
        "\n",
        "## Cell types\n",
        "- Two types of cells: <br>\n",
        "     1) Code <br>\n",
        "     2) Text <br> <br>\n",
        "- Changing the type of a cell is carried out through the upper control panel, you should click on the cell and select its type\n",
        "\n",
        "## Cell editing\n",
        "\n",
        "- Cell that is not active is gray\n",
        "- Cell is activated with one click of the cursor and turns blue\n",
        "- The cell goes into editing mode by double clicking the cursor and turns green\n",
        "\n",
        "\n",
        "## Interruption of work\n",
        "\n",
        "Sometimes it is useful to stop a running cell.\n",
        "\n",
        "- You can press the stop button when the active cell is running. STOP sign at the top.\n",
        "- You can use the option in the Kernel menu - Interrupt\n",
        "- You can radically \"reboot\" the laptop in the Kernel menu - Restart and Clear Output"
      ]
    },
    {
      "cell_type": "markdown",
      "metadata": {
        "id": "adGpBK_rHN9b"
      },
      "source": [
        "# Google Colab\n",
        "- <a href=\"https://colab.research.google.com/\">Colab</a> is a Python development environment that runs in the browser using **Google Cloud**, i.e. you could work inside colab without installing python on your PC.\n",
        "- Quick intro to Colab and Python <a href=\"https://colab.research.google.com/github/tensorflow/examples/blob/master/courses/udacity_intro_to_tensorflow_for_deep_learning/l01c01_introduction_to_colab_and_python.ipynb\">here</a>.\n"
      ]
    },
    {
      "cell_type": "markdown",
      "metadata": {
        "id": "nmNOrzG7HN9b"
      },
      "source": [
        "# Python for Data Analysis Basics\n",
        "\n",
        "For applied purposes, it is important to master several aspects:\n",
        "\n",
        "- Standard language features\n",
        "- Variables and data types\n",
        "- Basic constructions\n",
        "- Writing custom functions\n",
        "- Loading and using libraries\n",
        "- Data preprocessing and visualization"
      ]
    },
    {
      "cell_type": "markdown",
      "metadata": {
        "id": "YqkCogMkHN9b"
      },
      "source": [
        "## Built-in Language Functions\n"
      ]
    },
    {
      "cell_type": "markdown",
      "metadata": {
        "id": "RQa5qQOtHN9b"
      },
      "source": [
        "### print()\n",
        "Function for displaying content on the screen. <br>\n",
        "\n",
        "**Required**: pass at least one object to be printed.\n",
        "\n",
        "print(*objects, sep=' ', end='\\n', file=sys.stdout, flush=False)¶\n",
        "\n",
        "Optional keyword arguments:\n",
        "\n",
        "- file :  a file-like object (stream); defaults to the current sys.stdout.\n",
        "\n",
        "- sep:   string inserted between values, default a space.\n",
        "\n",
        "- end:   string appended after the last value, default a newline.\n",
        "\n",
        "- flush: whether to forcibly flush the stream."
      ]
    },
    {
      "cell_type": "code",
      "execution_count": null,
      "metadata": {
        "id": "iPybazRlHN9c"
      },
      "outputs": [],
      "source": [
        "print?"
      ]
    },
    {
      "cell_type": "code",
      "execution_count": null,
      "metadata": {
        "id": "xQD8OxhkHN9c"
      },
      "outputs": [],
      "source": [
        "print(5)"
      ]
    },
    {
      "cell_type": "code",
      "execution_count": null,
      "metadata": {
        "id": "bJ_VNWLRHN9d"
      },
      "outputs": [],
      "source": [
        "print(5, 6, 7, 8)"
      ]
    },
    {
      "cell_type": "code",
      "execution_count": null,
      "metadata": {
        "id": "8N5pKYpBHN9d"
      },
      "outputs": [],
      "source": [
        "print(5, 6, 7, 8, sep='_')"
      ]
    },
    {
      "cell_type": "code",
      "execution_count": null,
      "metadata": {
        "id": "Jb1b0JcnHN9e"
      },
      "outputs": [],
      "source": [
        "print('January')"
      ]
    },
    {
      "cell_type": "markdown",
      "metadata": {
        "id": "aYU4ipuEHN9e"
      },
      "source": [
        "#### Problem 1\n",
        "\n",
        "Print \"Hello, world!\""
      ]
    },
    {
      "cell_type": "code",
      "execution_count": null,
      "metadata": {
        "id": "qqKZ2ZrZHN9e"
      },
      "outputs": [],
      "source": [
        "print('Hello, world!')"
      ]
    },
    {
      "cell_type": "code",
      "execution_count": null,
      "metadata": {
        "id": "75hvp_d0HN9e"
      },
      "outputs": [],
      "source": [
        "input?"
      ]
    },
    {
      "cell_type": "markdown",
      "metadata": {
        "id": "FRsR3st6HN9e"
      },
      "source": [
        "### input()\n",
        "A function for entering data into the program from a keyboard. <br>\n",
        "There are no required arguments. You can pass a string that will be displayed before the input cell."
      ]
    },
    {
      "cell_type": "code",
      "execution_count": null,
      "metadata": {
        "id": "DbGShB0fHN9e"
      },
      "outputs": [],
      "source": [
        "name = input()\n",
        "print(name)"
      ]
    },
    {
      "cell_type": "markdown",
      "metadata": {
        "id": "vuXxDdRnHN9e"
      },
      "source": [
        "And here a small transformation will allow you to display the desired text in front of the input cell"
      ]
    },
    {
      "cell_type": "code",
      "execution_count": null,
      "metadata": {
        "id": "VrXYxXzvHN9e"
      },
      "outputs": [],
      "source": [
        "name = input('Input your name: ')\n",
        "print(name)"
      ]
    },
    {
      "cell_type": "markdown",
      "metadata": {
        "id": "b3ZAbWuTHN9f"
      },
      "source": [
        "### Arithmetic operations\n",
        "- Addition: +\n",
        "- Subtraction: -\n",
        "- Multiplication: *\n",
        "- Division: /\n",
        "- Exponentiation: **\n",
        "- Integer division: //\n",
        "- Remainder of the division: %"
      ]
    },
    {
      "cell_type": "code",
      "execution_count": null,
      "metadata": {
        "id": "SADuFn8XHN9f"
      },
      "outputs": [],
      "source": [
        "print('We are working with numbers', 5, 'and', 2)\n",
        "print(5 + 2)\n",
        "print(5 - 2)\n",
        "print(5*2)\n",
        "print(5 / 2)\n",
        "print( 5 // 2)\n",
        "print('The remainder of the division:', 5 % 2)\n",
        "print('5 to power 2:', 5**2)"
      ]
    },
    {
      "cell_type": "markdown",
      "metadata": {
        "id": "M5_nFgwUHN9f"
      },
      "source": [
        "#### Problem 2\n",
        "Suppose that we have $100, that could be invested with 10% interest rate. <br>\n",
        "How much money will we make in 7 years? Display the answer on the screen."
      ]
    },
    {
      "cell_type": "code",
      "execution_count": null,
      "metadata": {
        "id": "ju_StgZHHN9f"
      },
      "outputs": [],
      "source": []
    },
    {
      "cell_type": "markdown",
      "metadata": {
        "id": "TgdODOblHN9f"
      },
      "source": [
        "### Variables and variable types\n",
        "\n",
        "The results of operations and manipulations sometimes need to be saved, so we define variables - named objects to which we assign values."
      ]
    },
    {
      "cell_type": "code",
      "execution_count": null,
      "metadata": {
        "id": "hZ_nT4HlHN9f"
      },
      "outputs": [],
      "source": [
        "savings_2017 = 2000\n",
        "savings_2016 = 1800\n",
        "increase = ((2000 - 1800) / 1800)*100"
      ]
    },
    {
      "cell_type": "code",
      "execution_count": null,
      "metadata": {
        "id": "Fd1qkd0qHN9f"
      },
      "outputs": [],
      "source": [
        "#Print % increase\n",
        "print(round(increase), '%', sep='')"
      ]
    },
    {
      "cell_type": "markdown",
      "metadata": {
        "id": "iGyOA5HeHN9g"
      },
      "source": [
        "#### Problem 3\n",
        "\n",
        "Suppose that we have $100, that could be invested with 10% interest rate. <br>\n",
        "How much money will we make in 7 years? Display the answer on the screen.\n",
        "\n",
        "- Create a variable savings with a value of 100\n",
        "- Create a variable rate that is responsible for the annual growth\n",
        "- Store the calculation result in the result variable\n",
        "- Print the results"
      ]
    },
    {
      "cell_type": "code",
      "execution_count": null,
      "metadata": {
        "id": "Kb-Wk8kQHN9g"
      },
      "outputs": [],
      "source": []
    },
    {
      "cell_type": "markdown",
      "metadata": {
        "id": "hs1TOADrHN9g"
      },
      "source": [
        "A function **type** allows us to determine the type of a variable."
      ]
    },
    {
      "cell_type": "code",
      "execution_count": null,
      "metadata": {
        "id": "MEpa-fxKHN9g"
      },
      "outputs": [],
      "source": [
        "print(type(savings_2017))\n",
        "print(type(increase))"
      ]
    },
    {
      "cell_type": "code",
      "execution_count": null,
      "metadata": {
        "id": "PHGrEPu9HN9g"
      },
      "outputs": [],
      "source": [
        "text = 'Monatery Savings in 2017'\n",
        "print(type(text))"
      ]
    },
    {
      "cell_type": "code",
      "execution_count": null,
      "metadata": {
        "id": "109UyCE5HN9g"
      },
      "outputs": [],
      "source": [
        "x = False\n",
        "print(type(x))"
      ]
    },
    {
      "cell_type": "markdown",
      "metadata": {
        "id": "TzlyWb2IHN9g"
      },
      "source": [
        "If you need to change the type of a variable, then these functions are useful:\n",
        "\n",
        "- int () - returns an integer variable\n",
        "- float () - returns a non-integer variable\n",
        "- bool () - returns a boolean variable\n",
        "- str () - returns a string variable"
      ]
    },
    {
      "cell_type": "code",
      "execution_count": null,
      "metadata": {
        "id": "kTKA5nirHN9g"
      },
      "outputs": [],
      "source": [
        "print(savings_2017, type(savings_2017))\n",
        "savings_2017_new = str(savings_2017)\n",
        "print(savings_2017_new, type(savings_2017_new))\n",
        "print('Savings ' +  'in 2017: ' + savings_2017_new)"
      ]
    },
    {
      "cell_type": "code",
      "execution_count": null,
      "metadata": {
        "id": "pItGzAW5HN9h"
      },
      "outputs": [],
      "source": [
        "print(int(savings_2017_new) - savings_2016)"
      ]
    },
    {
      "cell_type": "markdown",
      "metadata": {
        "id": "xPBPSpeyHN9h"
      },
      "source": [
        "#### Problem 4\n",
        "\n",
        "Correct the code to make it work:"
      ]
    },
    {
      "cell_type": "code",
      "execution_count": null,
      "metadata": {
        "id": "mOgey08CHN9i"
      },
      "outputs": [],
      "source": [
        "print(\"I started with $\" + savings + \" and now have $\" + result + \". Not good!\")"
      ]
    },
    {
      "cell_type": "markdown",
      "metadata": {
        "id": "_8BDQoFvHN9i"
      },
      "source": [
        "### List\n",
        "\n",
        "The four considered data types are designed so that one value is written in one variable:\n",
        "- int: integer\n",
        "- float: number with fractional part\n",
        "- str: text\n",
        "- bool: boolean variable\n",
        "\n",
        "For example, if we want to record the savings of family members, we can create a number of variables and enter information there."
      ]
    },
    {
      "cell_type": "code",
      "execution_count": null,
      "metadata": {
        "id": "jdQs8w5-HN9i"
      },
      "outputs": [],
      "source": [
        "savings1 = 500\n",
        "savings2 = 1000\n",
        "savings3 = 746\n",
        "savings4 = 456"
      ]
    },
    {
      "cell_type": "markdown",
      "metadata": {
        "id": "tOSZgh7dHN9i"
      },
      "source": [
        "But this is not convenient, so we could store all the information in one variable:"
      ]
    },
    {
      "cell_type": "code",
      "execution_count": null,
      "metadata": {
        "id": "jRNjJmOsHN9i"
      },
      "outputs": [],
      "source": [
        "savings_family = [500, 1000, 746, 2000]"
      ]
    },
    {
      "cell_type": "markdown",
      "metadata": {
        "id": "3xDcdoKOHN9i"
      },
      "source": [
        "This build-in data structure is called a **list**."
      ]
    },
    {
      "cell_type": "code",
      "execution_count": null,
      "metadata": {
        "id": "37JrBdfhHN9i"
      },
      "outputs": [],
      "source": [
        "savings_family = ['mom', 500,'dad', 1000, 'brother', 746, 'me', 2000]"
      ]
    },
    {
      "cell_type": "markdown",
      "metadata": {
        "id": "b-SUwbIRHN9i"
      },
      "source": [
        "Also you could create a **list of lists** :)"
      ]
    },
    {
      "cell_type": "code",
      "execution_count": null,
      "metadata": {
        "id": "7vneZGCkHN9i"
      },
      "outputs": [],
      "source": [
        "savings_family = [['mom', 500], ['dad', 1000], ['brother', 746], ['me', 2000]]"
      ]
    },
    {
      "cell_type": "code",
      "execution_count": null,
      "metadata": {
        "id": "_CpLzAJ2HN9i"
      },
      "outputs": [],
      "source": [
        "s = 0\n",
        "for member in savings_family:\n",
        "    s = s + member[1]\n",
        "print(s)"
      ]
    },
    {
      "cell_type": "code",
      "execution_count": null,
      "metadata": {
        "id": "wE17Kn-eHN9j"
      },
      "outputs": [],
      "source": [
        "print(savings_family)"
      ]
    },
    {
      "cell_type": "markdown",
      "metadata": {
        "id": "pvIZCy3uHN9j"
      },
      "source": [
        "#### Problem 5\n",
        "\n",
        "Create a list 'home' that stores names and footages of the rooms in the house. Print the list."
      ]
    },
    {
      "cell_type": "code",
      "execution_count": null,
      "metadata": {
        "id": "TkF2bVhHHN9j"
      },
      "outputs": [],
      "source": []
    },
    {
      "cell_type": "markdown",
      "metadata": {
        "id": "VjbbrUN6HN9j"
      },
      "source": [
        "List elements can be accessed by index:"
      ]
    },
    {
      "cell_type": "code",
      "execution_count": null,
      "metadata": {
        "id": "EgeTv4zFHN9j"
      },
      "outputs": [],
      "source": [
        "savings_family[0]"
      ]
    },
    {
      "cell_type": "code",
      "execution_count": null,
      "metadata": {
        "id": "cGwS0XIZHN9j"
      },
      "outputs": [],
      "source": [
        "savings_family[0][1]"
      ]
    },
    {
      "cell_type": "markdown",
      "metadata": {
        "id": "b-cRIYHAHN9j"
      },
      "source": [
        "There are many methods (i.e. functions that are specific to lists) for working with lists:\n",
        "\n",
        "Methods:\n",
        "- **list.append(x)**\tAdd an item to the end of the list.\n",
        "- **list.extend(L)**\tExtend the list by appending all the items from the list L.\n",
        "- **list.insert(i, x)**\tInsert an item x at a given position i.\n",
        "- **list.remove(x)**\tRemove the first item from the list whose value is equal to x. ValueError, if there is no such item.\n",
        "- **list.pop([i])**\tRemove the item at the given position in the list, and return it. If no index is specified, a.pop() removes and returns the last item in the list.\n",
        "- **list.index(x, [start [, end]])**\tReturn zero-based index in the list of the first item whose value is equal to x. Raises a ValueError if there is no such item.\n",
        "- **list.count(x)**\tReturn the number of times x appears in the list.\n",
        "- **list.sort([key=some_functions])**\tSort the items of the list in place based on some predefined function.\n",
        "- **list.reverse()**\tReverse the elements of the list in place.\n",
        "- **list.copy()**\tReturn a shallow copy of the list.\n",
        "- **list.clear()**\tRemove all items from the list."
      ]
    },
    {
      "cell_type": "code",
      "execution_count": null,
      "metadata": {
        "id": "hOKzauVkHN9j"
      },
      "outputs": [],
      "source": [
        "# delete the last family member entry\n",
        "savings_family.pop()\n",
        "print(savings_family)"
      ]
    },
    {
      "cell_type": "code",
      "execution_count": null,
      "metadata": {
        "id": "88y6V6ICHN9j"
      },
      "outputs": [],
      "source": [
        "# and now add\n",
        "savings_family.append(['me', 2000])"
      ]
    },
    {
      "cell_type": "code",
      "execution_count": null,
      "metadata": {
        "id": "GaZcAeuTHN9k"
      },
      "outputs": [],
      "source": [
        "# Create a two-list list that keeps track of your uncle's savings of 3000 and your aunt's of 10000\n",
        "savings_relatives = [['uncle', 4000], ['aunt', 10000]]"
      ]
    },
    {
      "cell_type": "code",
      "execution_count": null,
      "metadata": {
        "id": "0ZvMKwcmHN9k"
      },
      "outputs": [],
      "source": [
        "savings_family.extend(savings_relatives)\n",
        "print(savings_family)"
      ]
    },
    {
      "cell_type": "markdown",
      "metadata": {
        "id": "JXNhQc0rHN9k"
      },
      "source": [
        "#### Problem 6\n",
        "\n",
        "Calculate the total family savings"
      ]
    },
    {
      "cell_type": "code",
      "execution_count": null,
      "metadata": {
        "id": "-uc1m_5mHN9k"
      },
      "outputs": [],
      "source": [
        "for member in savings_family:\n",
        "    ...\n",
        "    print(member)"
      ]
    },
    {
      "cell_type": "markdown",
      "metadata": {
        "id": "3FgC0g6eHN9k"
      },
      "source": [
        "### Conditional statements\n",
        "\n",
        "There are logical expressions that can be true or false. A simple boolean expression is  <br />\n",
        "\n",
        "< arithmetic expression > < comparison sign > < arithmetic expression >. <br />\n",
        "\n",
        "For example, if we have variables x and y with some values, then the logical expression <br /> x + y < 3y <br /> as the first arithmetic expression has x + y, as a comparison sign < (less than),and the second arithmetic expression is 3y.\n",
        "\n",
        "<center>\n",
        "    <table>\n",
        "        <tr>\n",
        "            <th>Logical expression </th>\n",
        "            <th> Value </th>\n",
        "        </tr>\n",
        "        <tr><td>&lt;</td><td> Less than </td></tr>\n",
        "        <tr><td>&gt;</td><td> Greater than</td></tr>\n",
        "        <tr><td>&lt;=</td><td> Less or equal</td></tr>\n",
        "        <tr><td>&gt;=</td><td> Greater or equal</td></tr>\n",
        "        <tr><td>==</td><td> Equal </td></tr>\n",
        "        <tr><td>!=</td><td> Not equal</td></tr>\n",
        "    </table>\n",
        "</center>"
      ]
    },
    {
      "cell_type": "code",
      "execution_count": null,
      "metadata": {
        "id": "ffV31_GzHN9k"
      },
      "outputs": [],
      "source": [
        "x = 1 > 2\n",
        "print(type(x))\n",
        "print(x)\n",
        "print(int(x))"
      ]
    },
    {
      "cell_type": "markdown",
      "metadata": {
        "id": "Qh-ufqeiHN9k"
      },
      "source": [
        "To write a complex logical expression, it is often necessary to use logical connectives **and**, **or** and **not**. Operations **and** and **or** are binari operations, i.е. must be written between operands, for instance, **x < 3 or y > 2**. Operation **not** - unary and must be written before its only operand."
      ]
    },
    {
      "cell_type": "code",
      "execution_count": null,
      "metadata": {
        "id": "bmFMPOrQHN9k"
      },
      "outputs": [],
      "source": [
        "x = int(input())\n",
        "y = int(input())\n",
        "z = int(input())\n",
        "print(x == y)\n",
        "print(x > y and y < z)"
      ]
    },
    {
      "cell_type": "markdown",
      "metadata": {
        "id": "bi3GEgk7HN9k"
      },
      "source": [
        "#### Problem 7\n",
        "\n",
        "Compare x with 10. Print the result"
      ]
    },
    {
      "cell_type": "code",
      "execution_count": null,
      "metadata": {
        "id": "WikHw-TNHN9l"
      },
      "outputs": [],
      "source": [
        "x = 7\n"
      ]
    },
    {
      "cell_type": "markdown",
      "metadata": {
        "id": "Q6uMRi0QHN9l"
      },
      "source": [
        "**Problem 8**\n",
        "\n",
        "Does mom's savings fall in the range from 300 to 500? Write a boolean expression that tests this condition"
      ]
    },
    {
      "cell_type": "code",
      "execution_count": null,
      "metadata": {
        "id": "GeEthd6JHN9l"
      },
      "outputs": [],
      "source": [
        "savings_mom = 500\n"
      ]
    },
    {
      "cell_type": "markdown",
      "metadata": {
        "id": "ssrYYjKoHN9l"
      },
      "source": [
        "\n",
        "### Conditional operator"
      ]
    },
    {
      "cell_type": "markdown",
      "metadata": {
        "id": "ZhG3omyIHN9l"
      },
      "source": [
        "The most common use of logical expressions is in conditional statements.\n",
        "\n",
        "Python syntax: <br />\n",
        "**if** condition_1:<br />\n",
        "&emsp; commands<br />\n",
        "**elif** condition_2:<br />\n",
        "&emsp; commands<br />\n",
        "**elif** condition_3:<br />\n",
        "&emsp; commands<br />\n",
        "**else**: <br />\n",
        "&emsp; commands<br />"
      ]
    },
    {
      "cell_type": "code",
      "execution_count": null,
      "metadata": {
        "id": "Pudbm4saHN9l"
      },
      "outputs": [],
      "source": [
        "x = 5\n",
        "y = 7\n",
        "if x > y:\n",
        "    print('X greater than Y')\n",
        "    print(x - y)\n",
        "else:\n",
        "    print(' ')\n",
        "    print('X less or equal to Y')"
      ]
    },
    {
      "cell_type": "code",
      "execution_count": null,
      "metadata": {
        "id": "4q8uP7gyHN9l"
      },
      "outputs": [],
      "source": [
        "x = int(input('Input X:'))\n",
        "y = int(input('Input Y:'))\n",
        "if x > y:\n",
        "    print('X greater than Y')\n",
        "    print(x - y)\n",
        "elif y > x:\n",
        "    print('Y greater than X')\n",
        "    print(y - x)\n",
        "else:\n",
        "    print('X equal to Y')"
      ]
    },
    {
      "cell_type": "markdown",
      "metadata": {
        "id": "fvgpssJnHN9l"
      },
      "source": [
        "#### Problems 9-10\n",
        "\n",
        "1) You are given the area of the kitchen. If it exceeds 15 sq.m, then the line \"The kitchen is large!\" Should appear, otherwise - \"The kitchen is small\""
      ]
    },
    {
      "cell_type": "code",
      "execution_count": null,
      "metadata": {
        "id": "EVMYmA0WHN9l"
      },
      "outputs": [],
      "source": [
        "room = \"kit\"\n",
        "area = 14.0\n",
        "\n",
        "if :\n",
        "    print()\n",
        "else:\n",
        "    print()"
      ]
    },
    {
      "cell_type": "markdown",
      "metadata": {
        "id": "ZdkjOt9aHN9m"
      },
      "source": [
        "2) Given a natural number, it is required to determine whether the year with the given number is a leap year. If the year is a leap year, then output YES, otherwise output NO. Recall that, according to the Gregorian calendar, a year is a leap year if its number is a multiple of 4, but not a multiple of 100, and also if it is a multiple of 400."
      ]
    },
    {
      "cell_type": "code",
      "execution_count": null,
      "metadata": {
        "id": "Jegsj2FeHN9m"
      },
      "outputs": [],
      "source": [
        "n = int(input())\n",
        "if :\n",
        "    print('YES')\n",
        "\n",
        "else:\n",
        "    print('NO')"
      ]
    },
    {
      "cell_type": "markdown",
      "metadata": {
        "id": "Aqcq0A7IHN9m"
      },
      "source": [
        "### Cycle while\n",
        "\n",
        "As soon as a line of code has been executed, it is \"forgotten\"; to repeat this action, you must explicitly re-register. Cyclic constructs are used to repeat the same actions many times.\n",
        "\n",
        "**While** allows you to execute commands as long as the condition is true. After the completion of the execution of the block of commands related to **while**, control returns to the line with the condition and, if it is satisfied, then the execution of the block of commands is repeated, and if not, execution of the commands written after **while** continues.\n",
        "\n",
        "It's important not to accidentally loop endlessly!\n",
        "\n",
        "**while** condition_1:<br />\n",
        "&emsp; commands<br />\n"
      ]
    },
    {
      "cell_type": "code",
      "execution_count": null,
      "metadata": {
        "scrolled": true,
        "id": "LvmymN6UHN9m"
      },
      "outputs": [],
      "source": [
        "# press stop button to stop execution\n",
        "temperature = 5\n",
        "while temperature > 0:\n",
        "    print('The weather is OK.')\n",
        "    #temperature = temperature - 1"
      ]
    },
    {
      "cell_type": "markdown",
      "metadata": {
        "id": "VGQWWEnrHN9m"
      },
      "source": [
        "#### Problem 11\n",
        "\n",
        "For a given integer N, print the squares of all numbers preceding N (including N) in descending order\n",
        "\n",
        "**Example**\n",
        "\n",
        "Input: <br />\n",
        "3\n",
        "\n",
        "Output: <br />\n",
        "9<br />\n",
        "4<br />\n",
        "1<br />"
      ]
    },
    {
      "cell_type": "markdown",
      "metadata": {
        "id": "GWIBhUvUHN9m"
      },
      "source": [
        "\n",
        "## Cycle for"
      ]
    },
    {
      "cell_type": "markdown",
      "metadata": {
        "id": "bpfUG4AeHN9m"
      },
      "source": [
        "### Функция range(n)\n",
        "An object of class range is created, inside which there is an arithmetic progression in the specified ranges and with a specific step\n",
        "\n",
        "Its syntax:\n",
        "- range(start, stop[, step])"
      ]
    },
    {
      "cell_type": "code",
      "execution_count": null,
      "metadata": {
        "id": "XwN1ikRhHN9m"
      },
      "outputs": [],
      "source": [
        "print(range(5))\n",
        "print(list(range(5)))\n",
        "print(list(range(2, 7)))\n",
        "print(list(range(2, 6, 2)))"
      ]
    },
    {
      "cell_type": "markdown",
      "metadata": {
        "id": "shmt4orlHN9m"
      },
      "source": [
        "### Cycle for\n",
        "The for loop lets you iterate through the elements from something iterable.\n",
        "\n",
        "Its syntax: <br />\n",
        "**for** i **in** range of change i:<br />\n",
        "&emsp; commands"
      ]
    },
    {
      "cell_type": "code",
      "execution_count": null,
      "metadata": {
        "id": "2NSyONQ5HN9n"
      },
      "outputs": [],
      "source": [
        "n = 5\n",
        "for i in range(n + 1):\n",
        "    print(i**2)"
      ]
    },
    {
      "cell_type": "code",
      "execution_count": null,
      "metadata": {
        "id": "H2kbCn71HN9n"
      },
      "outputs": [],
      "source": [
        "for color in ['red', 'green', 'yellow']:\n",
        "    print(color, 'apple')"
      ]
    },
    {
      "cell_type": "markdown",
      "metadata": {
        "id": "uk1Ck8w-HN9n"
      },
      "source": [
        "#### Problem 12\n",
        "\n",
        "Print the total savings of all family members from the savings_family list using **for loop**"
      ]
    },
    {
      "cell_type": "code",
      "execution_count": null,
      "metadata": {
        "id": "7ewv8jFiHN9n"
      },
      "outputs": [],
      "source": [
        "savings_family"
      ]
    },
    {
      "cell_type": "markdown",
      "metadata": {
        "id": "WfYPnU6pHN9n"
      },
      "source": [
        "## Functional programming\n",
        "\n",
        "If some operations need to be repeated from time to time and there are no built-in functions, then you can create your own.\n",
        "\n",
        "Syntax: <br />\n",
        "**def** function name(arguments):<br />\n",
        "&emsp; commands<br />\n",
        "&emsp; **return** the result <br />\n",
        "\n",
        "The function must be written anywhere before its first call."
      ]
    },
    {
      "cell_type": "code",
      "execution_count": null,
      "metadata": {
        "id": "uKgG3C7cHN9n"
      },
      "outputs": [],
      "source": [
        "def power(number, p):\n",
        "    result = number**p\n",
        "    return result\n",
        "\n",
        "number = int(input())\n",
        "p = int(input())\n",
        "print(power(number, p))"
      ]
    },
    {
      "cell_type": "code",
      "execution_count": null,
      "metadata": {
        "id": "QsEZQEwNHN9n"
      },
      "outputs": [],
      "source": [
        "6**5"
      ]
    },
    {
      "cell_type": "markdown",
      "metadata": {
        "id": "hX8_H0EOHN9n"
      },
      "source": [
        "#### Problem 13\n",
        "\n",
        "Write a function that calculates the area of a triangle by the length of all three sides. The sides are introduced outside the function. <br />\n",
        "Hint: use Heron's formula\n",
        "$$ S = \\sqrt{p(p-a)(p-b)(p-c)} $$\n",
        "$$ p = \\frac{a + b + c}{2}$$\n",
        "**Example**\n",
        "\n",
        "Input:<br />\n",
        "3\n",
        "4\n",
        "5\n",
        "\n",
        "Output: <br />\n",
        "6"
      ]
    },
    {
      "cell_type": "code",
      "execution_count": null,
      "metadata": {
        "id": "FWCk7OfBHN9n"
      },
      "outputs": [],
      "source": [
        "def square_triangle(a, b, c):\n",
        "    ...\n",
        "    return"
      ]
    },
    {
      "cell_type": "code",
      "execution_count": null,
      "metadata": {
        "id": "vBtQc8gRHN9o"
      },
      "outputs": [],
      "source": [
        "a = int(input())\n",
        "b = int(input())\n",
        "c = int(input())\n",
        "print(square_triangle(a, b, c))"
      ]
    },
    {
      "cell_type": "markdown",
      "metadata": {
        "id": "eIJ52ro8HN9o"
      },
      "source": [
        "# Intro to Numpy"
      ]
    },
    {
      "cell_type": "markdown",
      "metadata": {
        "id": "7gQvIUQVHN9o"
      },
      "source": [
        "Library import:"
      ]
    },
    {
      "cell_type": "code",
      "execution_count": null,
      "metadata": {
        "id": "y4zBYo74HN9o"
      },
      "outputs": [],
      "source": [
        "import numpy as np"
      ]
    },
    {
      "cell_type": "markdown",
      "metadata": {
        "id": "gzwMT0WcHN9o"
      },
      "source": [
        "### 1. Numpy array structure np.ndarray\n",
        "\n",
        "np.ndarray - it is an array containing elements **of the same type**.\n",
        "\n",
        "It means that:"
      ]
    },
    {
      "cell_type": "code",
      "execution_count": null,
      "metadata": {
        "id": "uSohbIDFHN9o"
      },
      "outputs": [],
      "source": [
        "a = [2, 4, 5]\n",
        "a"
      ]
    },
    {
      "cell_type": "code",
      "execution_count": null,
      "metadata": {
        "id": "M-1XwK0UHN9o"
      },
      "outputs": [],
      "source": [
        "a_numpy = np.array(a)\n",
        "a_numpy.dtype"
      ]
    },
    {
      "cell_type": "code",
      "execution_count": null,
      "metadata": {
        "id": "JU-0wwDKHN9o"
      },
      "outputs": [],
      "source": [
        "b = [2, 3.14]\n",
        "np.array(b)"
      ]
    },
    {
      "cell_type": "code",
      "execution_count": null,
      "metadata": {
        "id": "fhbaW30LHN9p"
      },
      "outputs": [],
      "source": [
        "c = [2, 3.14, 'kotiki']\n",
        "np.array(c)"
      ]
    },
    {
      "cell_type": "code",
      "execution_count": null,
      "metadata": {
        "id": "CoBEamHLHN9p"
      },
      "outputs": [],
      "source": [
        "my_list = [2, 4.14, 'kotiki', [2,3,4]]\n",
        "my_list"
      ]
    },
    {
      "cell_type": "code",
      "execution_count": null,
      "metadata": {
        "id": "ee1RwZm8HN9p"
      },
      "outputs": [],
      "source": [
        "# As object dtype\n",
        "np.array([2, 4.14, 'kotiki', [2, 4, 5]], dtype='object')"
      ]
    },
    {
      "cell_type": "markdown",
      "metadata": {
        "id": "GGf5MYU3HN9p"
      },
      "source": [
        "### Indexing"
      ]
    },
    {
      "cell_type": "code",
      "execution_count": null,
      "metadata": {
        "id": "ITW6a8OjHN9p"
      },
      "outputs": [],
      "source": [
        "a_numpy"
      ]
    },
    {
      "cell_type": "code",
      "execution_count": null,
      "metadata": {
        "id": "9yfMC42WHN9p"
      },
      "outputs": [],
      "source": [
        "a_numpy[0]"
      ]
    },
    {
      "cell_type": "code",
      "execution_count": null,
      "metadata": {
        "id": "9W3p0A5eHN9p"
      },
      "outputs": [],
      "source": [
        "a_numpy[1]"
      ]
    },
    {
      "cell_type": "code",
      "execution_count": null,
      "metadata": {
        "id": "KtcfBJWjHN9p"
      },
      "outputs": [],
      "source": [
        "a_numpy[-1]"
      ]
    },
    {
      "cell_type": "code",
      "execution_count": null,
      "metadata": {
        "id": "l2u--ErAHN9p"
      },
      "outputs": [],
      "source": [
        "a_numpy[:-2]"
      ]
    },
    {
      "cell_type": "code",
      "execution_count": null,
      "metadata": {
        "id": "H4QXe1IQHN9q"
      },
      "outputs": [],
      "source": [
        "a_numpy[1:4]"
      ]
    },
    {
      "cell_type": "code",
      "execution_count": null,
      "metadata": {
        "id": "9tISTZCdHN9q"
      },
      "outputs": [],
      "source": [
        "# subsampling an array with boolean conditions\n",
        "a_numpy[(a_numpy > 4) & (a_numpy < 6)]"
      ]
    },
    {
      "cell_type": "code",
      "execution_count": null,
      "metadata": {
        "id": "wpyjeL0yHN9q"
      },
      "outputs": [],
      "source": [
        "a_numpy[a_numpy > 2]"
      ]
    },
    {
      "cell_type": "markdown",
      "metadata": {
        "id": "h04leHeSHN9q"
      },
      "source": [
        "### Built-in methods"
      ]
    },
    {
      "cell_type": "markdown",
      "metadata": {
        "id": "0GN-BIxVHN9q"
      },
      "source": [
        "to overview all available methods, after the dot (.) press \"Tab\""
      ]
    },
    {
      "cell_type": "code",
      "execution_count": null,
      "metadata": {
        "id": "hT5vrgJuHN9q"
      },
      "outputs": [],
      "source": [
        "a_numpy"
      ]
    },
    {
      "cell_type": "code",
      "execution_count": null,
      "metadata": {
        "id": "OEYXhsDjHN9q"
      },
      "outputs": [],
      "source": [
        "# sum of all array elements\n",
        "a_numpy.sum()"
      ]
    },
    {
      "cell_type": "code",
      "execution_count": null,
      "metadata": {
        "id": "rbBGVAfAHN9q"
      },
      "outputs": [],
      "source": [
        "# average of all array elements\n",
        "a_numpy.mean()"
      ]
    },
    {
      "cell_type": "code",
      "execution_count": null,
      "metadata": {
        "id": "218h9RzGHN9q"
      },
      "outputs": [],
      "source": [
        "# maximum array element\n",
        "a_numpy.max()"
      ]
    },
    {
      "cell_type": "code",
      "execution_count": null,
      "metadata": {
        "id": "1HycMI1wHN9r"
      },
      "outputs": [],
      "source": [
        "# minimum element of the array\n",
        "a_numpy.min()"
      ]
    },
    {
      "cell_type": "code",
      "execution_count": null,
      "metadata": {
        "id": "k81uFhWFHN9r"
      },
      "outputs": [],
      "source": [
        "# result of multiplying all elements of the array\n",
        "a_numpy.prod()"
      ]
    },
    {
      "cell_type": "code",
      "execution_count": null,
      "metadata": {
        "id": "jKLkZI9WHN9r"
      },
      "outputs": [],
      "source": [
        "# array with strings\n",
        "b = np.array(['Maria', 'Evgenii', 'Polina', 'Misha', 'Anya'])"
      ]
    },
    {
      "cell_type": "code",
      "execution_count": null,
      "metadata": {
        "id": "pmZpvippHN9r"
      },
      "outputs": [],
      "source": [
        "# sort\n",
        "b.sort()\n",
        "b"
      ]
    },
    {
      "cell_type": "code",
      "execution_count": null,
      "metadata": {
        "id": "8FnQcbH-HN9r"
      },
      "outputs": [],
      "source": [
        "%%timeit\n",
        "a_numpy.sum()"
      ]
    },
    {
      "cell_type": "code",
      "execution_count": null,
      "metadata": {
        "id": "qZox7vr2HN9r"
      },
      "outputs": [],
      "source": [
        "%%timeit\n",
        "a_numpy.mean()"
      ]
    },
    {
      "cell_type": "code",
      "execution_count": null,
      "metadata": {
        "id": "3zWRWnn7HN9r"
      },
      "outputs": [],
      "source": [
        "# measures the execution time of the entire cell"
      ]
    },
    {
      "cell_type": "code",
      "execution_count": null,
      "metadata": {
        "id": "rvckpstyHN9r"
      },
      "outputs": [],
      "source": [
        "%%timeit\n",
        "a_numpy.sum()\n",
        "a_numpy.mean()"
      ]
    },
    {
      "cell_type": "code",
      "execution_count": null,
      "metadata": {
        "id": "CBGZkGsgHN9s"
      },
      "outputs": [],
      "source": [
        "# Set parameters\n",
        "## n - number of cycles\n",
        "## m - number of iterations in one cycle"
      ]
    },
    {
      "cell_type": "code",
      "execution_count": null,
      "metadata": {
        "id": "Jt3ad8UYHN9s"
      },
      "outputs": [],
      "source": [
        "%%timeit -n 5 -r 10\n",
        "a_numpy.sum()"
      ]
    },
    {
      "cell_type": "markdown",
      "metadata": {
        "id": "1731hv8kHN9s"
      },
      "source": [
        "### Vectorized operations (no-cycle operations)\n",
        "\n",
        "#### Example: elementwise addition of two one-dimensional arrays"
      ]
    },
    {
      "cell_type": "code",
      "execution_count": null,
      "metadata": {
        "id": "p00dcR4eHN9s"
      },
      "outputs": [],
      "source": [
        "# import the library\n",
        "import numpy as np\n",
        "\n",
        "# fix the random number generator\n",
        "np.random.seed(42)\n",
        "\n",
        "# create two numpy arrays\n",
        "a_numpy = np.random.randint(low=1, high=10, size=5)\n",
        "b_numpy = np.random.randint(low=1, high=10, size=5)\n",
        "print('a_numpy: {}, b_numpy: {}, type: {}'.format(a_numpy, b_numpy, type(a_numpy)))\n",
        "\n",
        "# create two similar lists\n",
        "a_list = a_numpy.tolist()\n",
        "b_list = b_numpy.tolist()\n",
        "print('a_list: {}, b_list: {}, type: {}'.format(a_list, b_list, type(a_list)))"
      ]
    },
    {
      "cell_type": "markdown",
      "metadata": {
        "id": "zSMNmoQBHN9s"
      },
      "source": [
        "pure python:"
      ]
    },
    {
      "cell_type": "code",
      "execution_count": null,
      "metadata": {
        "id": "tpELWnNJHN9s"
      },
      "outputs": [],
      "source": [
        "sum_arr=[]\n",
        "for i in range(len(a_list)):\n",
        "    sum_arr.append(a_list[i] + b_list[i])\n",
        "print(sum_arr)"
      ]
    },
    {
      "cell_type": "markdown",
      "metadata": {
        "id": "HziLGYOKHN9s"
      },
      "source": [
        "vectorized solution with numpy:"
      ]
    },
    {
      "cell_type": "code",
      "execution_count": null,
      "metadata": {
        "id": "kG3KMmGOHN9s"
      },
      "outputs": [],
      "source": [
        "sum_numpy = a_numpy + b_numpy\n",
        "print(sum_numpy)"
      ]
    },
    {
      "cell_type": "code",
      "execution_count": null,
      "metadata": {
        "id": "-0IXZ0cQHN9s"
      },
      "outputs": [],
      "source": [
        "%%timeit\n",
        "sum_arr=[]\n",
        "for i in range(len(a_list)):\n",
        "    sum_arr.append(a_list[i] + b_list[i])"
      ]
    },
    {
      "cell_type": "code",
      "execution_count": null,
      "metadata": {
        "id": "32tvi9xiHN9s"
      },
      "outputs": [],
      "source": [
        "%%timeit\n",
        "sum_numpy = a_numpy + b_numpy"
      ]
    },
    {
      "cell_type": "markdown",
      "metadata": {
        "id": "XkVYQdtGHN9s"
      },
      "source": [
        "#### Computing the product of two matrices"
      ]
    },
    {
      "cell_type": "code",
      "execution_count": null,
      "metadata": {
        "id": "eqcPpMuJHN9t"
      },
      "outputs": [],
      "source": [
        "import random"
      ]
    },
    {
      "cell_type": "code",
      "execution_count": null,
      "metadata": {
        "id": "2x28eOZWHN9t"
      },
      "outputs": [],
      "source": [
        "# an example of how else you can fix a random number generator\n",
        "random.seed(42)"
      ]
    },
    {
      "cell_type": "code",
      "execution_count": null,
      "metadata": {
        "id": "_lpzv-h2HN9t"
      },
      "outputs": [],
      "source": [
        "np.random.seed(42)\n",
        "\n",
        "# create two numpy arrays\n",
        "a_numpy = np.random.randint(low=1, high=10, size=(3,4))\n",
        "b_numpy = np.random.randint(low=1, high=10, size=(4,3))\n",
        "print('a_numpy: \\n{}, \\n\\nb_numpy: \\n{}, \\n\\ntype: {}'.format(a_numpy, b_numpy, type(a_numpy)))\n",
        "\n",
        "# create two similar lists\n",
        "a_list = a_numpy.tolist()\n",
        "b_list = b_numpy.tolist()\n",
        "print('\\na_list: \\n{}, \\n\\nb_list: \\n{}, \\n\\ntype: {}'.format(a_list, b_list, type(a_list)))"
      ]
    },
    {
      "cell_type": "markdown",
      "metadata": {
        "id": "KNfKN4_IHN9t"
      },
      "source": [
        "* pure python"
      ]
    },
    {
      "cell_type": "code",
      "execution_count": null,
      "metadata": {
        "id": "ss3xZvLPHN9t"
      },
      "outputs": [],
      "source": [
        "prod_arr = [[],[],[]]\n",
        "\n",
        "for i in range(len(a_list)):\n",
        "    for j in range(len(a_list)):\n",
        "        sum_ = 0\n",
        "        for k in range(len(b_list)):\n",
        "            sum_ += a_list[i][k] * b_list[k][j]\n",
        "        prod_arr[i].append(sum_)"
      ]
    },
    {
      "cell_type": "code",
      "execution_count": null,
      "metadata": {
        "id": "HwxFy-THHN9t"
      },
      "outputs": [],
      "source": [
        "print(prod_arr)"
      ]
    },
    {
      "cell_type": "markdown",
      "metadata": {
        "id": "LriI86x8HN9t"
      },
      "source": [
        "* vectorized solution with numpy"
      ]
    },
    {
      "cell_type": "code",
      "execution_count": null,
      "metadata": {
        "id": "8o12k9cTHN9t"
      },
      "outputs": [],
      "source": [
        "c = np.zeros((a_numpy.shape[0], b_numpy.shape[1]))\n",
        "for i in range(a_numpy.shape[0]):\n",
        "    for j in range(b_numpy.shape[1]):\n",
        "        for s in range(a_numpy.shape[1]):\n",
        "            c[i, j] += a_numpy[i, s] * b_numpy[s, j]"
      ]
    },
    {
      "cell_type": "code",
      "execution_count": null,
      "metadata": {
        "id": "1iyhz_NFHN9t"
      },
      "outputs": [],
      "source": [
        "print(c)"
      ]
    },
    {
      "cell_type": "markdown",
      "metadata": {
        "id": "fu2X0JxWHN9t"
      },
      "source": [
        "* built-in numpy method"
      ]
    },
    {
      "cell_type": "code",
      "execution_count": null,
      "metadata": {
        "id": "wPfcfGJhHN9t"
      },
      "outputs": [],
      "source": [
        "a_numpy.dot(b_numpy)"
      ]
    },
    {
      "cell_type": "code",
      "execution_count": null,
      "metadata": {
        "id": "R_-_dc7DHN9t"
      },
      "outputs": [],
      "source": [
        "%%timeit\n",
        "prod_arr = [[],[],[]]\n",
        "\n",
        "for i in range(len(a_list)):\n",
        "    for j in range(len(a_list)):\n",
        "        sum_ = 0\n",
        "        for k in range(len(b_list)):\n",
        "            sum_ += a_list[i][k] * b_list[k][j]\n",
        "        prod_arr[i].append(sum_)"
      ]
    },
    {
      "cell_type": "code",
      "execution_count": null,
      "metadata": {
        "id": "kAlR8D_qHN9u"
      },
      "outputs": [],
      "source": [
        "%%timeit\n",
        "c = np.zeros((a_numpy.shape[0], b_numpy.shape[1]))\n",
        "for i in range(a_numpy.shape[0]):\n",
        "    for j in range(b_numpy.shape[1]):\n",
        "        for s in range(a_numpy.shape[1]):\n",
        "            c[i, j] += a_numpy[i, s] * b_numpy[s, j]"
      ]
    },
    {
      "cell_type": "code",
      "execution_count": null,
      "metadata": {
        "id": "-Zvjt3QeHN9u"
      },
      "outputs": [],
      "source": [
        "%%timeit\n",
        "a_numpy.dot(b_numpy)"
      ]
    },
    {
      "cell_type": "markdown",
      "metadata": {
        "id": "B9VmFrlkHN9u"
      },
      "source": [
        "#### Example: Chaining Calculations"
      ]
    },
    {
      "cell_type": "markdown",
      "metadata": {
        "id": "CFtQS73bHN9u"
      },
      "source": [
        "Given a functions\n",
        "\n",
        "$f(x) = \\frac{1}{2}x^TAx + b^Tx + c$\n",
        "\n",
        "and its gradient\n",
        "\n",
        "$\\nabla{f(x)} = \\frac{1}{2}(A + A^T)x + b$\n",
        "\n",
        "calculate $f(x)$ and $\\nabla{f(x)}$ at the given point $x$"
      ]
    },
    {
      "cell_type": "code",
      "execution_count": null,
      "metadata": {
        "id": "c1e8eVWRHN9u"
      },
      "outputs": [],
      "source": [
        "np.random.seed(42)\n",
        "A = np.random.randint(low=1, high=10, size=(3,3))\n",
        "print(A)"
      ]
    },
    {
      "cell_type": "code",
      "execution_count": null,
      "metadata": {
        "id": "QvHQropqHN9u"
      },
      "outputs": [],
      "source": [
        "x = np.random.randint(1,10,3)\n",
        "b = np.random.randint(1,10,3)\n",
        "c = np.random.randint(1,10,1)\n",
        "print('x:', x)\n",
        "print('b:', b)\n",
        "print('c:', c)"
      ]
    },
    {
      "cell_type": "code",
      "execution_count": null,
      "metadata": {
        "id": "U29jcFnXHN9u"
      },
      "outputs": [],
      "source": [
        "0.5 * x.T.dot(A).dot(x) + b.T.dot(x) + c"
      ]
    },
    {
      "cell_type": "code",
      "execution_count": null,
      "metadata": {
        "id": "D_jwahmtHN9u"
      },
      "outputs": [],
      "source": [
        "0.5 * (A + A.T).dot(x) + b"
      ]
    },
    {
      "cell_type": "code",
      "execution_count": null,
      "metadata": {
        "id": "2ZNBNNZhHN9u"
      },
      "outputs": [],
      "source": [
        "x.T@(A)"
      ]
    },
    {
      "cell_type": "code",
      "execution_count": null,
      "metadata": {
        "id": "FM_0HFmJHN9u"
      },
      "outputs": [],
      "source": [
        "x.T.dot(A)"
      ]
    },
    {
      "cell_type": "markdown",
      "metadata": {
        "id": "9xZwjtgDHN9v"
      },
      "source": [
        "# Intro to Pandas\n"
      ]
    },
    {
      "cell_type": "code",
      "execution_count": null,
      "metadata": {
        "id": "DVV_Fa6SHN9v"
      },
      "outputs": [],
      "source": [
        "import pandas as pd"
      ]
    },
    {
      "cell_type": "markdown",
      "metadata": {
        "id": "kTOqGqV2HN9v"
      },
      "source": [
        "There are two data structures in pandas:\n",
        "- **Series**: a one-dimensional array with named indices (most often, data of the same type)\n",
        "- **DataFrame**: two-dimensional array, has a tabular structure, is easily resizable, can contain data of different types\n",
        "\n",
        "Both types can be created manually using functions from the library itself:\n",
        "- pandas.Series(data=None, index=None, dtype=None)\n",
        "- pandas.DataFrame(data=None, index=None, columns=None, dtype=None)\n",
        "\n",
        "- **data** - data to be written to the structure\n",
        "- **index** - row indices\n",
        "- **columns** - column names\n",
        "- **dtype** - data type\n",
        "\n",
        "Besides **data**, other parameters are optional.\n"
      ]
    },
    {
      "cell_type": "markdown",
      "metadata": {
        "id": "XLAkON0yHN9v"
      },
      "source": [
        "We can of course create the dataframes ourselves!"
      ]
    },
    {
      "cell_type": "code",
      "execution_count": null,
      "metadata": {
        "id": "UjC9qvnzHN9v"
      },
      "outputs": [],
      "source": [
        "columns = ['country', 'province', 'region_1', 'region_2']\n",
        "index = [0, 1, 10, 100]\n",
        "data = [['Italy', 'Sicily & Sardinia', 'Etna', 'NaN'],\n",
        "        ['Portugal', 'Douro', 'NaN', 'NaN'],\n",
        "       ['US', 'California', 'Napa Valley', 'Napa'],\n",
        "       ['US', 'New York', 'Finger Lakes', 'Finger Lakes']]"
      ]
    },
    {
      "cell_type": "markdown",
      "metadata": {
        "id": "8gwBS6gpHN9v"
      },
      "source": [
        "Now let's put it into a dataframe"
      ]
    },
    {
      "cell_type": "code",
      "execution_count": null,
      "metadata": {
        "scrolled": true,
        "id": "9ywsYMegHN9x"
      },
      "outputs": [],
      "source": [
        "df = pd.DataFrame(data, columns = columns, index = index)\n",
        "df"
      ]
    },
    {
      "cell_type": "markdown",
      "metadata": {
        "id": "su1DQ1hFHN9x"
      },
      "source": [
        "#### Pandas problem 1\n",
        "\n",
        "Create pandas dataframe from the table below\n",
        "\n",
        "<center>\n",
        "    <table>\n",
        "        <tr>\n",
        "            <th> Name </th>\n",
        "            <th> Score </th>\n",
        "            <th> Attempts </th>\n",
        "            <th> Qualify </th>\n",
        "        </tr>\n",
        "        <tr><td> Anastasia </td><td> 12.5 </td><td> 1 </td><td> Yes </td></tr>\n",
        "        <tr><td> Dima </td><td> 9.0 </td><td> 3 </td><td> No </td></tr>\n",
        "        <tr><td> Kate </td><td> 16.5 </td><td> 2 </td><td> Yes </td></tr>\n",
        "        <tr><td> James </td><td> Nan </td><td> 3 </td><td> No </td></tr>\n",
        "        <tr><td> Emily </td><td> 9.0 </td><td> 2 </td><td> No </td></tr>        \n",
        "    </table>\n",
        "</center>"
      ]
    },
    {
      "cell_type": "code",
      "execution_count": null,
      "metadata": {
        "id": "qvyOkQNdHN9x"
      },
      "outputs": [],
      "source": []
    },
    {
      "cell_type": "markdown",
      "metadata": {
        "id": "6EvLzdx2HN9x"
      },
      "source": [
        "### Loading and writing data\n",
        "\n",
        "The truth is that we will not be so cruel to ourselves and will not manually enter data. We will load from a file.\n",
        "\n",
        "\n",
        "- Functions of the common format **pd.read_format** и **pd.to_format**\n",
        "read and write data, respectively. <br /> A complete list can be found in the documentation:\n",
        "http://pandas.pydata.org/pandas-docs/stable/io.html\n",
        "\n",
        "\n",
        "Let's learn how to read data in csv (comma separated value) format with the function:\n",
        "\n",
        "- <a href=\"http://pandas.pydata.org/pandas-docs/stable/generated/pandas.read_csv.html#pandas.read_csv\"> pd.read_csv()</a>:\n",
        "\n",
        "She has a lot of critical arguments:\n",
        " - **filepath_or_buffer** - text string with the name (address) of the file\n",
        " - **sep** - separator between data\n",
        " - **header** - the number of the line in which the column names are indicated in the file, None if not\n",
        " - **names** - a list with column names\n",
        " - **index_col** - a column number, or a list, or nothing - a column in the file to take the row names\n"
      ]
    },
    {
      "cell_type": "markdown",
      "metadata": {
        "id": "Xnat3ZquHN9y"
      },
      "source": [
        "We will work with Wine dataset. The name of the file is 'dpo_1-2_winemag-data_first150k.csv'"
      ]
    },
    {
      "cell_type": "code",
      "execution_count": null,
      "metadata": {
        "id": "r2KCLDJ3HN9y"
      },
      "outputs": [],
      "source": [
        "data = pd.read_csv('dpo_1-2_winemag-data_first150k.csv')"
      ]
    },
    {
      "cell_type": "markdown",
      "metadata": {
        "id": "Y6Xl4ZsMHN9y"
      },
      "source": [
        "\n",
        "### See what's loaded"
      ]
    },
    {
      "cell_type": "code",
      "execution_count": null,
      "metadata": {
        "id": "pP1AuuTuHN9y"
      },
      "outputs": [],
      "source": [
        "data.head(5)"
      ]
    },
    {
      "cell_type": "markdown",
      "metadata": {
        "id": "t9DvH7v8HN9y"
      },
      "source": [
        "There is something wrong with the first column, let's fix it"
      ]
    },
    {
      "cell_type": "code",
      "execution_count": null,
      "metadata": {
        "id": "FdkZGF63HN9y"
      },
      "outputs": [],
      "source": [
        "data = pd.read_csv('dpo_1-2_winemag-data_first150k.csv', index_col = 0)"
      ]
    },
    {
      "cell_type": "code",
      "execution_count": null,
      "metadata": {
        "scrolled": true,
        "id": "gYQnElYbHN9y"
      },
      "outputs": [],
      "source": [
        "data.head(3)"
      ]
    },
    {
      "cell_type": "markdown",
      "metadata": {
        "id": "RKB716Y-HN9y"
      },
      "source": [
        "### Let's see what has loaded:\n",
        "\n",
        "- Let's count the number of entries\n",
        "- Let's check the data types\n",
        "- Check if there are gaps in the data"
      ]
    },
    {
      "cell_type": "markdown",
      "metadata": {
        "id": "0Ktu5RbMHN9y"
      },
      "source": [
        "Let's count how many records are in the data.\n",
        "\n",
        "- The **count ()** method helps"
      ]
    },
    {
      "cell_type": "code",
      "execution_count": null,
      "metadata": {
        "scrolled": true,
        "id": "QH1uvQZ6HN9y"
      },
      "outputs": [],
      "source": [
        "data.count()"
      ]
    },
    {
      "cell_type": "markdown",
      "metadata": {
        "id": "jpH9RpfQHN9y"
      },
      "source": [
        "- The **info()** method also shows what type of data is in the columns"
      ]
    },
    {
      "cell_type": "code",
      "execution_count": null,
      "metadata": {
        "id": "gJcP8gDuHN9z"
      },
      "outputs": [],
      "source": [
        "data.info()"
      ]
    },
    {
      "cell_type": "code",
      "execution_count": null,
      "metadata": {
        "id": "lyEtXEQYHN9z"
      },
      "outputs": [],
      "source": [
        "data.dtypes"
      ]
    },
    {
      "cell_type": "markdown",
      "metadata": {
        "id": "suMCOICgHN9z"
      },
      "source": [
        "Let's start checking for gaps!\n",
        "\n",
        "- **.isnull ()** - produces a table, where False - the cell is full, True - the cell is empty :( Closest relatives - isna ()"
      ]
    },
    {
      "cell_type": "code",
      "execution_count": null,
      "metadata": {
        "id": "gmCDKLz2HN9z"
      },
      "outputs": [],
      "source": [
        "data.isnull()"
      ]
    },
    {
      "cell_type": "markdown",
      "metadata": {
        "id": "ClA4MJN2HN9z"
      },
      "source": [
        "Let me get ahead of the story and show you how to visually assess the scale of a disaster :)"
      ]
    },
    {
      "cell_type": "code",
      "execution_count": null,
      "metadata": {
        "id": "b4o6TNRSHN9z"
      },
      "outputs": [],
      "source": [
        "import matplotlib.pyplot as plt\n",
        "import seaborn as sns\n",
        "\n",
        "fig, ax = plt.subplots(figsize=(20,12))\n",
        "sns_heatmap = sns.heatmap(data.isnull(), yticklabels=False, cbar=False, cmap='viridis')\n",
        "plt.show()"
      ]
    },
    {
      "cell_type": "markdown",
      "metadata": {
        "id": "TjLzNgsYHN9z"
      },
      "source": [
        "What we could do?\n",
        "\n",
        "There is not much choice: <br>\n",
        "\n",
        "1) Delete:\n",
        "- dropna(axis=0, how='any'): axis = 0 - delete line, axis = 1 drop the column; how = 'any' - drop if there is at least one empty cell. how = 'all' - drop if there is a completely empty row or column\n",
        "\n",
        "2) Fill in the gaps:\n",
        "- fillna() - an art of fill in the gaps (will be discussed later in the course)\n"
      ]
    },
    {
      "cell_type": "markdown",
      "metadata": {
        "id": "lcfiCP4zHN9z"
      },
      "source": [
        "### Descriptive statistics\n",
        "\n",
        "Now let's see what we have.\n",
        "\n",
        "We will calculate the main descriptive statistics. All at once :)\n",
        "\n",
        "- describe() - a method that returns a table with descriptive statistics. In this form, it counts everything for numeric columns"
      ]
    },
    {
      "cell_type": "code",
      "execution_count": null,
      "metadata": {
        "scrolled": true,
        "id": "kXOSJ6xEHN9z"
      },
      "outputs": [],
      "source": [
        "data.describe()"
      ]
    },
    {
      "cell_type": "markdown",
      "metadata": {
        "id": "u2cNMJzsHN9z"
      },
      "source": [
        "A bit of magic, and non-numeric data will also have its descriptive statistics."
      ]
    },
    {
      "cell_type": "code",
      "execution_count": null,
      "metadata": {
        "id": "2Z3HzufZHN90"
      },
      "outputs": [],
      "source": [
        "data.describe(include=['O'])"
      ]
    },
    {
      "cell_type": "markdown",
      "metadata": {
        "id": "zv9cu85rHN90"
      },
      "source": [
        "In general, everything can be calculated for individual columns.\n",
        "\n",
        "But we haven't learned how to select columns. Well, time for action."
      ]
    },
    {
      "cell_type": "markdown",
      "metadata": {
        "id": "Vr2HK85KHN90"
      },
      "source": [
        "### Data slices\n",
        "\n",
        "Let's say we don't need a dataset, but only specific columns or rows or columns and rows.\n",
        "\n",
        "\n",
        "How?\n",
        "\n",
        "Remember that:\n",
        "- the columns have names\n",
        "- the rows have names\n",
        "- if there are no names, then there are always their indexes\n",
        "\n",
        "Based on this idea, we will start slicing data."
      ]
    },
    {
      "cell_type": "code",
      "execution_count": null,
      "metadata": {
        "id": "ZMxq8iKDHN90"
      },
      "outputs": [],
      "source": [
        "data.head(1)"
      ]
    },
    {
      "cell_type": "markdown",
      "metadata": {
        "id": "NnFgHD6cHN90"
      },
      "source": [
        "####  Select by columns. Version 1."
      ]
    },
    {
      "cell_type": "code",
      "execution_count": null,
      "metadata": {
        "id": "AbqIKYQPHN90"
      },
      "outputs": [],
      "source": [
        "data['price']"
      ]
    },
    {
      "cell_type": "code",
      "execution_count": null,
      "metadata": {
        "id": "Lyw_OLdDHN90"
      },
      "outputs": [],
      "source": [
        "data[['price','country']]"
      ]
    },
    {
      "cell_type": "markdown",
      "metadata": {
        "id": "9PxTjSJOHN90"
      },
      "source": [
        "#### Select by rows. Version 1.\n"
      ]
    },
    {
      "cell_type": "code",
      "execution_count": null,
      "metadata": {
        "id": "JythhWudHN90"
      },
      "outputs": [],
      "source": [
        "data[0:1]"
      ]
    },
    {
      "cell_type": "code",
      "execution_count": null,
      "metadata": {
        "id": "qhP5Y2VeHN91"
      },
      "outputs": [],
      "source": [
        "data[:1]"
      ]
    },
    {
      "cell_type": "markdown",
      "metadata": {
        "id": "4-Alwab3HN91"
      },
      "source": [
        "#### Select by columns. Version 2. Still by names"
      ]
    },
    {
      "cell_type": "code",
      "execution_count": null,
      "metadata": {
        "id": "5KG5G-R1HN91"
      },
      "outputs": [],
      "source": [
        "data.loc[:, ['price']]"
      ]
    },
    {
      "cell_type": "markdown",
      "metadata": {
        "id": "G2ll5mm1HN91"
      },
      "source": [
        "#### Select by rows. Version 2. Still by names"
      ]
    },
    {
      "cell_type": "code",
      "execution_count": null,
      "metadata": {
        "id": "i53GHSrRHN91"
      },
      "outputs": [],
      "source": [
        "data.loc[0,:]"
      ]
    },
    {
      "cell_type": "markdown",
      "metadata": {
        "id": "q3YYo6BvHN91"
      },
      "source": [
        "#### Select by rows and columns #1"
      ]
    },
    {
      "cell_type": "code",
      "execution_count": null,
      "metadata": {
        "id": "hUQWOdySHN91"
      },
      "outputs": [],
      "source": [
        "data.loc[0:5,['price', 'country']]"
      ]
    },
    {
      "cell_type": "markdown",
      "metadata": {
        "id": "V8lPN-TjHN91"
      },
      "source": [
        "#### Select by rows and columns #2. By rows and columns indexes"
      ]
    },
    {
      "cell_type": "code",
      "execution_count": null,
      "metadata": {
        "id": "syqOyf4aHN91"
      },
      "outputs": [],
      "source": [
        "data.iloc[2:5, [5,7]]"
      ]
    },
    {
      "cell_type": "markdown",
      "metadata": {
        "id": "MDv9-YsUHN91"
      },
      "source": [
        "#### Pandas problem 2\n",
        "\n",
        "Select the first line from the dataset (you have created it in the first task)"
      ]
    },
    {
      "cell_type": "code",
      "execution_count": null,
      "metadata": {
        "id": "4ZBiyYPzHN91"
      },
      "outputs": [],
      "source": []
    },
    {
      "cell_type": "markdown",
      "metadata": {
        "id": "w831FwE1HN91"
      },
      "source": [
        "#### Pandas problem 3\n",
        "\n",
        "Slice the data (by row indexes)"
      ]
    },
    {
      "cell_type": "code",
      "execution_count": null,
      "metadata": {
        "id": "yxKCIMQIHN92"
      },
      "outputs": [],
      "source": []
    },
    {
      "cell_type": "markdown",
      "metadata": {
        "id": "QUGxNkKxHN92"
      },
      "source": [
        "### Selection with conditions\n",
        "\n",
        "So, what if I need wines over $ 15 dollars?"
      ]
    },
    {
      "cell_type": "code",
      "execution_count": null,
      "metadata": {
        "id": "9t8FJrHPHN92"
      },
      "outputs": [],
      "source": [
        "# set a mask\n",
        "mask = data['price'] > 15"
      ]
    },
    {
      "cell_type": "code",
      "execution_count": null,
      "metadata": {
        "id": "hZlRi0cKHN92"
      },
      "outputs": [],
      "source": [
        "# select the required data\n",
        "\n",
        "temp = data[mask]\n",
        "temp"
      ]
    },
    {
      "cell_type": "markdown",
      "metadata": {
        "id": "dNswZFg9HN92"
      },
      "source": [
        "### Let's look at the data again! By plots :-)"
      ]
    },
    {
      "cell_type": "markdown",
      "metadata": {
        "id": "greOH8chHN92"
      },
      "source": [
        "We reduce stress and do not go to get acquainted with libraries for visualization, because ...\n",
        "\n",
        "The pandas library has a drawing tool!\n",
        "\n",
        "- df.plot() - method for plotting\n",
        "\n",
        "Let's try to just call it without everything and see what happens."
      ]
    },
    {
      "cell_type": "code",
      "execution_count": null,
      "metadata": {
        "id": "xFAF-_RNHN92"
      },
      "outputs": [],
      "source": [
        "data.plot()"
      ]
    },
    {
      "cell_type": "markdown",
      "metadata": {
        "id": "OOyVCi1cHN92"
      },
      "source": [
        "Satisfied? Not really."
      ]
    },
    {
      "cell_type": "code",
      "execution_count": null,
      "metadata": {
        "id": "i02pnToeHN92"
      },
      "outputs": [],
      "source": [
        "data['price'].plot()"
      ]
    },
    {
      "cell_type": "code",
      "execution_count": null,
      "metadata": {
        "scrolled": true,
        "id": "pKeVTPZBHN92"
      },
      "outputs": [],
      "source": [
        "data['points'].plot()"
      ]
    },
    {
      "cell_type": "markdown",
      "metadata": {
        "id": "UXchgwSbHN92"
      },
      "source": [
        "Something is gping wrong. Let's try to achieve some sensible visualization of the **points** column."
      ]
    },
    {
      "cell_type": "code",
      "execution_count": null,
      "metadata": {
        "id": "R0-ftA_YHN92"
      },
      "outputs": [],
      "source": [
        "data['points'].value_counts().plot(kind='bar')"
      ]
    },
    {
      "cell_type": "markdown",
      "metadata": {
        "id": "y3KrDDVzHN92"
      },
      "source": [
        "What is **value_counts()**? (Without it, I do not advise you to run the code above, it will hurt)"
      ]
    },
    {
      "cell_type": "code",
      "execution_count": null,
      "metadata": {
        "id": "jawbDqQ6HN93"
      },
      "outputs": [],
      "source": [
        "data['points'].value_counts()"
      ]
    },
    {
      "cell_type": "code",
      "execution_count": null,
      "metadata": {
        "id": "kjzN7SqSHN93"
      },
      "outputs": [],
      "source": [
        "data['points'].value_counts().plot(kind='barh')"
      ]
    },
    {
      "cell_type": "code",
      "execution_count": null,
      "metadata": {
        "id": "_VJbRjreHN93"
      },
      "outputs": [],
      "source": [
        "data['points'].value_counts().plot(kind='line')"
      ]
    },
    {
      "cell_type": "markdown",
      "metadata": {
        "id": "nEg6ThwqHN93"
      },
      "source": [
        "Again, not very good. Because our indexes are not sorted at value_counts ()!\n",
        "\n",
        "Let's fix"
      ]
    },
    {
      "cell_type": "code",
      "execution_count": null,
      "metadata": {
        "id": "PHiKXYV8HN93"
      },
      "outputs": [],
      "source": [
        "data['points'].value_counts().sort_index().plot(kind='line')"
      ]
    },
    {
      "cell_type": "code",
      "execution_count": null,
      "metadata": {
        "id": "9YnSzTPkHN93"
      },
      "outputs": [],
      "source": [
        "data['points'].value_counts().sort_index().plot(kind='area')"
      ]
    },
    {
      "cell_type": "code",
      "execution_count": null,
      "metadata": {
        "id": "ezm9lY7kHN93"
      },
      "outputs": [],
      "source": [
        "data['points'].sort_index().plot(kind='hist')"
      ]
    },
    {
      "cell_type": "code",
      "execution_count": null,
      "metadata": {
        "scrolled": true,
        "id": "Nx8R7ruCHN93"
      },
      "outputs": [],
      "source": [
        "data['points'].plot(kind='box')"
      ]
    },
    {
      "cell_type": "markdown",
      "metadata": {
        "id": "qpt8X-t3HN93"
      },
      "source": [
        "Okay, we are done with one-column plots. And what about several columns?"
      ]
    },
    {
      "cell_type": "code",
      "execution_count": null,
      "metadata": {
        "id": "wlqooRGvHN93"
      },
      "outputs": [],
      "source": [
        "data.plot(kind ='box')"
      ]
    },
    {
      "cell_type": "code",
      "execution_count": null,
      "metadata": {
        "id": "Q7xbe4CwHN93"
      },
      "outputs": [],
      "source": [
        "data.plot(kind='box', subplots=True)"
      ]
    },
    {
      "cell_type": "markdown",
      "metadata": {
        "id": "6lCxA-vZHN94"
      },
      "source": [
        "How are prices and sommelier ratings jointly distributed?"
      ]
    },
    {
      "cell_type": "code",
      "execution_count": null,
      "metadata": {
        "scrolled": true,
        "id": "yglO5COwHN94"
      },
      "outputs": [],
      "source": [
        " data.plot(x='points', y='price', kind='scatter')"
      ]
    },
    {
      "cell_type": "code",
      "execution_count": null,
      "metadata": {
        "id": "EteSLTrtHN94"
      },
      "outputs": [],
      "source": [
        "wine_counts = pd.read_csv('dpo_1-2_top-five-wine-score-counts.csv')\n",
        "wine_counts.head(3)"
      ]
    },
    {
      "cell_type": "code",
      "execution_count": null,
      "metadata": {
        "id": "_sC4IfYsHN94"
      },
      "outputs": [],
      "source": [
        "wine_counts.plot.line(x='points')"
      ]
    },
    {
      "cell_type": "code",
      "execution_count": null,
      "metadata": {
        "id": "YZAGZhPLHN94"
      },
      "outputs": [],
      "source": [
        "wine_counts.plot.area(x='points')"
      ]
    },
    {
      "cell_type": "code",
      "execution_count": null,
      "metadata": {
        "id": "UIbcR-ooHN94"
      },
      "outputs": [],
      "source": [
        "wine_counts.plot.bar(x='points', stacked=True)"
      ]
    },
    {
      "cell_type": "markdown",
      "metadata": {
        "id": "rS73fvvkHN94"
      },
      "source": [
        "# A bit more Visualization or Intro to matplotlib"
      ]
    },
    {
      "cell_type": "code",
      "execution_count": null,
      "metadata": {
        "id": "PyG6TGssHN94"
      },
      "outputs": [],
      "source": [
        "import matplotlib.pyplot as plt\n",
        "%matplotlib inline"
      ]
    },
    {
      "cell_type": "markdown",
      "metadata": {
        "id": "n34Rw0IhHN94"
      },
      "source": [
        "Drawing the plot \"by default\":"
      ]
    },
    {
      "cell_type": "code",
      "execution_count": null,
      "metadata": {
        "id": "Ys74OASGHN95"
      },
      "outputs": [],
      "source": [
        "# create some synthetic data\n",
        "import numpy as np\n",
        "x = np.linspace(0,15,100)\n",
        "# make a default plot\n",
        "plt.plot(x)"
      ]
    },
    {
      "cell_type": "code",
      "execution_count": null,
      "metadata": {
        "id": "esdtFAdNHN95"
      },
      "outputs": [],
      "source": [
        "# default plot #2\n",
        "y = np.cos(x)\n",
        "plt.plot(y)"
      ]
    },
    {
      "cell_type": "markdown",
      "metadata": {
        "id": "05tFr4VDHN95"
      },
      "source": [
        "Whats wrong with the plot above?\n",
        "\n",
        "* missing axes labels\n",
        "* no plot title\n",
        "\n",
        "Let's fix this:"
      ]
    },
    {
      "cell_type": "code",
      "execution_count": null,
      "metadata": {
        "id": "fd1o9TmVHN95"
      },
      "outputs": [],
      "source": [
        "plt.plot(x, y)\n",
        "plt.title('cos(x)')\n",
        "plt.xlabel('х')\n",
        "plt.ylabel('y')\n",
        "plt.show()"
      ]
    },
    {
      "cell_type": "markdown",
      "metadata": {
        "id": "QYRkHHh4HN95"
      },
      "source": [
        "Add labels to the plot:"
      ]
    },
    {
      "cell_type": "code",
      "execution_count": null,
      "metadata": {
        "id": "l5suYjl1HN95"
      },
      "outputs": [],
      "source": [
        "z = 0.5 * np.sin(x)\n",
        "\n",
        "# make a plot\n",
        "plt.plot(x, y, label='cos(x)')\n",
        "plt.plot(x, z, label='sin(x)')\n",
        "plt.title('0.5 sin(x) и cos(x)')\n",
        "plt.xlabel('х')\n",
        "plt.ylabel('y, z')\n",
        "plt.legend()\n",
        "plt.show()"
      ]
    },
    {
      "cell_type": "markdown",
      "metadata": {
        "id": "WJlcH9aoHN95"
      },
      "source": [
        "Anyway something is going wrong! what?\n",
        "\n",
        "Lets change the size of the plot:"
      ]
    },
    {
      "cell_type": "code",
      "execution_count": null,
      "metadata": {
        "id": "VvzrIIJcHN95"
      },
      "outputs": [],
      "source": [
        "# make a plot\n",
        "plt.figure(figsize=(8,4))\n",
        "plt.plot(x, y, label='cos(x)')\n",
        "plt.plot(x, z, label='sin(x)')\n",
        "plt.title('0.5 sin(x) и cos(x)')\n",
        "plt.xlabel('х')\n",
        "plt.ylabel('y, z')\n",
        "plt.legend()\n",
        "plt.show()"
      ]
    },
    {
      "cell_type": "markdown",
      "metadata": {
        "id": "W0Diw9QAHN95"
      },
      "source": [
        "How to change colors?"
      ]
    },
    {
      "cell_type": "code",
      "execution_count": null,
      "metadata": {
        "id": "__1qy9UtHN95"
      },
      "outputs": [],
      "source": [
        "# make a plot\n",
        "plt.figure(figsize=(15,6))\n",
        "plt.plot(x, y, label='cos(x)', c='g')\n",
        "plt.plot(x, z, label='sin(x)', c='r')\n",
        "plt.title('0.5 sin(x) и cos(x)')\n",
        "plt.xlabel('х')\n",
        "plt.ylabel('y, z')\n",
        "plt.legend()\n",
        "plt.show()"
      ]
    },
    {
      "cell_type": "markdown",
      "metadata": {
        "id": "hj8u9iSFHN95"
      },
      "source": [
        "Multiple plots in the same axes"
      ]
    },
    {
      "cell_type": "code",
      "execution_count": null,
      "metadata": {
        "id": "QBJ5Z-AJHN95"
      },
      "outputs": [],
      "source": [
        "plt.figure(1, figsize=(10,5))\n",
        "\n",
        "plt.subplot(211)\n",
        "plt.title('Two plots with joint x axis')\n",
        "plt.plot(x, y, 'b-.', label='cos(x)')\n",
        "plt.legend()\n",
        "\n",
        "plt.subplot(212)\n",
        "plt.plot(x, z, 'r--', label='0.5 sin(x)')\n",
        "plt.xlabel('Joint axis х')\n",
        "plt.legend()\n",
        "\n",
        "plt.show()"
      ]
    },
    {
      "cell_type": "markdown",
      "metadata": {
        "id": "g7Lq-m7oHN96"
      },
      "source": [
        "### Bar plot\n",
        "\n",
        "More code examples:\n",
        "https://matplotlib.org/api/_as_gen/matplotlib.pyplot.bar.html#matplotlib.pyplot.bar"
      ]
    },
    {
      "cell_type": "code",
      "execution_count": null,
      "metadata": {
        "id": "zB2mFufvHN96"
      },
      "outputs": [],
      "source": [
        "x = np.arange(5)\n",
        "height = [20, 23, 25, 24, 26]\n",
        "\n",
        "plt.bar(x, height, align='center', color='c', linewidth = 100)\n",
        "\n",
        "plt.title('Monthly Sales of Х')\n",
        "\n",
        "plt.ylabel('mln USD')\n",
        "plt.xticks(x, ('January', 'February', 'March', 'April', 'May'))\n",
        "\n",
        "plt.show()"
      ]
    },
    {
      "cell_type": "markdown",
      "metadata": {
        "id": "V4-d0QQkHN96"
      },
      "source": [
        "### Histogram\n",
        "\n",
        "More code examples:\n",
        "\n",
        "https://matplotlib.org/api/_as_gen/matplotlib.pyplot.hist.html"
      ]
    },
    {
      "cell_type": "code",
      "execution_count": null,
      "metadata": {
        "id": "FEwEqvIlHN96"
      },
      "outputs": [],
      "source": [
        "np.random.seed(42)\n",
        "x = np.random.normal(0, 1, 100000)\n",
        "\n",
        "\n",
        "plt.hist(x, bins=10)\n",
        "plt.title('Distribution of values in the X array')\n",
        "plt.show()"
      ]
    },
    {
      "cell_type": "code",
      "execution_count": null,
      "metadata": {
        "id": "D0tV70p1HN96"
      },
      "outputs": [],
      "source": []
    }
  ],
  "metadata": {
    "kernelspec": {
      "display_name": "Python 3 (ipykernel)",
      "language": "python",
      "name": "python3"
    },
    "language_info": {
      "codemirror_mode": {
        "name": "ipython",
        "version": 3
      },
      "file_extension": ".py",
      "mimetype": "text/x-python",
      "name": "python",
      "nbconvert_exporter": "python",
      "pygments_lexer": "ipython3",
      "version": "3.9.5"
    },
    "colab": {
      "provenance": []
    }
  },
  "nbformat": 4,
  "nbformat_minor": 0
}