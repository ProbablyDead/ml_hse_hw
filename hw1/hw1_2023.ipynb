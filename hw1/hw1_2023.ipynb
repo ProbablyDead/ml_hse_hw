{
 "cells": [
  {
   "cell_type": "markdown",
   "metadata": {
    "id": "5GYwwlTcuJ4m"
   },
   "source": [
    "# HSE 2023: Mathematical Methods for Data Analysis\n",
    "\n",
    "## Homework 1"
   ]
  },
  {
   "cell_type": "markdown",
   "metadata": {
    "id": "2OMoZn7puJ4n"
   },
   "source": [
    "### Attention!\n",
    "* For tasks where <ins>text answer</ins> is required **Russian language** is **allowed**.\n",
    "* If a task asks you to describe something (make conclusions) then **text answer** is **mandatory** and **is** part of the task\n",
    "* **Do not** upload the dataset (titanic.csv) to the grading system (we already have it)\n",
    "* We **only** accept **ipynb** notebooks. If you use Google Colab then you'll have to download the notebook before passing the homework\n",
    "* **Do not** use python loops instead of NumPy vector operations over NumPy vectors - it significantly decreases performance (see why https://blog.paperspace.com/numpy-optimization-vectorization-and-broadcasting/), will be punished with -0.25 for **every** task.\n",
    "Loops are only allowed in part 1 (Tasks 1 - 4).\n",
    "* Some tasks contain tests. They only test your solution on a simple example, thus, passing the test does **not** guarantee you the full grade for the task."
   ]
  },
  {
   "cell_type": "code",
   "execution_count": 2,
   "metadata": {
    "id": "KVxhOZOXuJ4o"
   },
   "outputs": [],
   "source": [
    "%matplotlib inline\n",
    "import numpy as np\n",
    "import pandas as pd\n",
    "import matplotlib.pyplot as plt\n",
    "import seaborn as sns"
   ]
  },
  {
   "cell_type": "markdown",
   "metadata": {
    "id": "U20kQiWSuJ4o"
   },
   "source": [
    "# 1. Python (2 points)"
   ]
  },
  {
   "cell_type": "markdown",
   "metadata": {
    "id": "q6l8_yRXuJ4o"
   },
   "source": [
    "**Task 1** (0.5 points)<br/>\n",
    "Enter nonzero numbers `a`, `d` and `N`. Find the sum of the first `N` members of [harmonic sequence](https://en.wikipedia.org/wiki/Harmonic_progression_(mathematics)) with the first member denominator `a`"
   ]
  },
  {
   "cell_type": "code",
   "execution_count": 3,
   "metadata": {
    "id": "H2VAlE4WuJ4o"
   },
   "outputs": [
    {
     "name": "stdout",
     "output_type": "stream",
     "text": [
      "2.9289682539682538\n"
     ]
    }
   ],
   "source": [
    "def find_sum(a: int, d: int, N: int) -> float:\n",
    "    result = 0\n",
    "    for i in range(N):\n",
    "        result += 1 / (a + i * d)\n",
    "    return result\n",
    "\n",
    "a = 1\n",
    "d = 1\n",
    "N = 10\n",
    "print(find_sum(a, d, N))"
   ]
  },
  {
   "cell_type": "markdown",
   "metadata": {
    "id": "FCtV7ud0uJ4p"
   },
   "source": [
    "**Task 2** (0.5 points) <br/>\n",
    "Enter an integer number `N`. Check if it is a palindrome number **without converting it to the string**. It means that it can be read equally from left to right and from right to back."
   ]
  },
  {
   "cell_type": "code",
   "execution_count": 4,
   "metadata": {
    "id": "-7y9eR62uJ4p"
   },
   "outputs": [
    {
     "name": "stdout",
     "output_type": "stream",
     "text": [
      "3 True\n",
      "81 False\n",
      "111 True\n",
      "113 False\n",
      "810 False\n",
      "2022 False\n",
      "4774 True\n",
      "51315 True\n",
      "611816 False\n"
     ]
    }
   ],
   "source": [
    "def check_palindrome(N):\n",
    "    copy_of_N = N\n",
    "    tmp = 0\n",
    "    while copy_of_N != 0:\n",
    "        tmp = tmp * 10 + copy_of_N%10\n",
    "        copy_of_N //= 10\n",
    "\n",
    "    check_palindrome = tmp == N \n",
    "        \n",
    "    return check_palindrome\n",
    "\n",
    "for N in [3, 81, 111, 113, 810, 2022, 4774, 51315, 611816]:\n",
    "    print(N, check_palindrome(N))"
   ]
  },
  {
   "cell_type": "markdown",
   "metadata": {
    "id": "MTmGn0IXuJ4p"
   },
   "source": [
    "**Task 3** (0.5 points) <br/>\n",
    "Find the first `N` palindrome numbers starting from 42 (you may use the function from the precious task)."
   ]
  },
  {
   "cell_type": "code",
   "execution_count": 5,
   "metadata": {
    "id": "eWD7K18OuJ4p"
   },
   "outputs": [
    {
     "name": "stdout",
     "output_type": "stream",
     "text": [
      "[44, 55, 66]\n",
      "[44, 55, 66, 77, 88, 99, 101, 111, 121, 131, 141, 151, 161]\n",
      "[44, 55, 66, 77, 88, 99, 101, 111, 121, 131, 141, 151, 161, 171, 181, 191, 202, 212, 222, 232, 242, 252, 262]\n"
     ]
    }
   ],
   "source": [
    "def find_palindromes(N):\n",
    "    i = 42\n",
    "    counter = 0\n",
    "    palindromes = []\n",
    "    \n",
    "    while counter != N:\n",
    "        if check_palindrome(i):\n",
    "           palindromes.append(i)\n",
    "           counter += 1\n",
    "        i += 1\n",
    "            \n",
    "    return palindromes\n",
    "\n",
    "print(find_palindromes(3))\n",
    "print(find_palindromes(13))\n",
    "print(find_palindromes(23))"
   ]
  },
  {
   "cell_type": "markdown",
   "metadata": {
    "id": "xl9sWBMFuJ4p"
   },
   "source": [
    "**Task 4** (0.5 points) <br/>\n",
    "There are numbers: `a`, `b`, `c`. Without using functions `min`, `max` and other functions, find the median number."
   ]
  },
  {
   "cell_type": "code",
   "execution_count": 6,
   "metadata": {
    "id": "STOaXhYbuJ4p"
   },
   "outputs": [
    {
     "name": "stdout",
     "output_type": "stream",
     "text": [
      "28 39 3 \tMedian: 28\n",
      "22 95 94 \tMedian: 94\n",
      "24 -32 -91 \tMedian: -32\n",
      "-62 -100 82 \tMedian: -62\n",
      "22 21 -73 \tMedian: 21\n",
      "-6 -84 -35 \tMedian: -35\n",
      "-84 0 -26 \tMedian: -26\n",
      "-94 -51 -58 \tMedian: -58\n",
      "8 -61 75 \tMedian: 8\n",
      "98 62 -75 \tMedian: 62\n"
     ]
    }
   ],
   "source": [
    "from random import randint\n",
    "\n",
    "def find_median(a, b, c):\n",
    "    result = 0\n",
    "    if a >= b:\n",
    "        if a < c:\n",
    "            result = a\n",
    "        else:\n",
    "            result = b if b > c else c\n",
    "    else:\n",
    "        if a > c:\n",
    "            result = a\n",
    "        else:\n",
    "            result = b if b < c else c\n",
    "        \n",
    "    return result\n",
    "\n",
    "for i in range(10):\n",
    "\n",
    "    a = randint(-100, 100)\n",
    "    b = randint(-100, 100)\n",
    "    c = randint(-100, 100)\n",
    "\n",
    "    print(a, b, c, '\\tMedian:', find_median(a, b, c))"
   ]
  },
  {
   "cell_type": "markdown",
   "metadata": {
    "id": "up1L0oApuJ4p"
   },
   "source": [
    "# 2. Numpy (4 points)"
   ]
  },
  {
   "cell_type": "markdown",
   "metadata": {
    "id": "mWVb1DCyuJ4p"
   },
   "source": [
    "**Task 1** (0.5 points) <br/>\n",
    "Create a random array from Gaussian distribution with length of 12 and with sum of its elements equal to 15. Distribution shall be left Gaussian"
   ]
  },
  {
   "cell_type": "code",
   "execution_count": 31,
   "metadata": {
    "id": "r0p7U44VuJ4p"
   },
   "outputs": [
    {
     "name": "stdout",
     "output_type": "stream",
     "text": [
      "Length: 12\n",
      "Sum of elements: 15.000000000000002\n"
     ]
    }
   ],
   "source": [
    "sum = 15\n",
    "my_array = np.random.normal(0, 1, 12)\n",
    "nf = sum / np.sum(my_array)\n",
    "my_array *= nf\n",
    "print(f'Length: {len(my_array)}')\n",
    "print(f'Sum of elements: {np.sum(my_array)}')"
   ]
  },
  {
   "cell_type": "markdown",
   "metadata": {
    "id": "k4v47kP0uJ4p"
   },
   "source": [
    "**Task 2** (0.5 points) <br/>\n",
    "Create two random arrays $a$ and $b$ with the same length.\n",
    "\n",
    "Calculate the following distances between the arrays **without using any special function. You may only use basic numpy operations (`np.linalg.*` and other high-level ones are prohibited).**:\n",
    "\n",
    "* Manhattan Distance\n",
    "$$ d(a, b) = \\sum_i |a_i - b_i| $$\n",
    "* Euclidean Distance\n",
    "$$ d(a, b) = \\sqrt{\\sum_i (a_i - b_i)^2} $$\n",
    "* Chebyshev Distance\n",
    "$$ d(a, b) = \\underset{i}{max} |a_i - b_i| $$\n",
    "* Cosine Distance\n",
    "$$ d(a, b) = 1 - \\frac{a^\\top b}{||a||_2\\cdot||b||_2} $$\n"
   ]
  },
  {
   "cell_type": "code",
   "execution_count": 132,
   "metadata": {
    "id": "W3veWp-VuJ4p"
   },
   "outputs": [],
   "source": [
    "def calculate_manhattan(a, b):\n",
    "    distance = np.sum(np.abs(a - b))\n",
    "    return distance\n",
    "\n",
    "def calculate_euclidean(a, b):\n",
    "    distance = np.sqrt(np.sum(np.square(a - b)))\n",
    "    return distance\n",
    "\n",
    "def calculate_chebyshev(a, b):\n",
    "    distance = np.max(np.abs(a - b))\n",
    "    return distance\n",
    "\n",
    "def calculate_cosine(a, b):\n",
    "    cosine_similarity = np.sum(a * b) / (np.sqrt(np.sum(a**2)) * np.sqrt(np.sum(b**2)))\n",
    "    distance = 1 - cosine_similarity\n",
    "    return distance"
   ]
  },
  {
   "cell_type": "code",
   "execution_count": 131,
   "metadata": {
    "id": "IbB3TB77uJ4q",
    "scrolled": true
   },
   "outputs": [
    {
     "name": "stdout",
     "output_type": "stream",
     "text": [
      "Manhattan distance: 2.907643172875607\n",
      "Euclidean distance: 1.0698559489374087\n",
      "Chebyshev distance: 0.5630794980528417\n",
      "Cosine distance: 0.15370675234608633\n"
     ]
    }
   ],
   "source": [
    "a = np.random.rand(10)\n",
    "b = np.random.rand(10)\n",
    "print(f'Manhattan distance: {calculate_manhattan(a, b)}')\n",
    "print(f'Euclidean distance: {calculate_euclidean(a, b)}')\n",
    "print(f'Chebyshev distance: {calculate_chebyshev(a, b)}')\n",
    "print(f'Cosine distance: {calculate_cosine(a, b)}')"
   ]
  },
  {
   "cell_type": "markdown",
   "metadata": {
    "id": "0inovs_suJ4q"
   },
   "source": [
    "**Task 3** (0.5 points) <br/>\n",
    "Create a random array of integers with length of 42. Transform the array so that\n",
    "* Maximum element(s) value is 10\n",
    "* Minimum element(s) value is -6\n",
    "* Other values are in interval (-6; 10) without changing the relative order (relation $\\frac{x_i}{x_{i-1}}=\\frac{\\widehat{x}_{i}}{\\widehat{x}_{i-1}}$ holds)"
   ]
  },
  {
   "cell_type": "code",
   "execution_count": 158,
   "metadata": {
    "id": "FhoGLR5CuJ4q"
   },
   "outputs": [],
   "source": [
    "def transform(array):\n",
    "    max = 10\n",
    "    min = -6\n",
    "    tmp = (array - np.min(array)) / (np.max(array) - np.min(array))\n",
    "    transformed_array = tmp * (max - min) + min\n",
    "    return transformed_array"
   ]
  },
  {
   "cell_type": "code",
   "execution_count": 159,
   "metadata": {
    "id": "8BE5MjUMuJ4q"
   },
   "outputs": [
    {
     "name": "stdout",
     "output_type": "stream",
     "text": [
      "[77 39 36 44 56 24 87 96 30 81  6 22  4 74 18 39 87 48 89 68 14 81  7 95\n",
      " 48 99 94  9 26 52 93 47 64 66 77 64 33  7 45 94 66 43]\n",
      "Min: -6.0\n",
      "Max: 10.0\n",
      "Array:\n",
      "[ 6.29473684 -0.10526316 -0.61052632  0.73684211  2.75789474 -2.63157895\n",
      "  7.97894737  9.49473684 -1.62105263  6.96842105 -5.66315789 -2.96842105\n",
      " -6.          5.78947368 -3.64210526 -0.10526316  7.97894737  1.41052632\n",
      "  8.31578947  4.77894737 -4.31578947  6.96842105 -5.49473684  9.32631579\n",
      "  1.41052632 10.          9.15789474 -5.15789474 -2.29473684  2.08421053\n",
      "  8.98947368  1.24210526  4.10526316  4.44210526  6.29473684  4.10526316\n",
      " -1.11578947 -5.49473684  0.90526316  9.15789474  4.44210526  0.56842105]\n"
     ]
    }
   ],
   "source": [
    "my_array = np.random.randint(0, 100, 42)\n",
    "print(my_array)\n",
    "my_array = transform(my_array)\n",
    "print(f'Min: {np.min(my_array)}')\n",
    "print(f'Max: {np.max(my_array)}')\n",
    "print('Array:')\n",
    "print(my_array)"
   ]
  },
  {
   "cell_type": "markdown",
   "metadata": {
    "id": "2uFda-U_uJ4q"
   },
   "source": [
    "**Task 4** (0.5 points) <br/>\n",
    "Create an array with shape of $10 \\times 3$ with integers from [-12, 4]. Find a column that contains the minimum element of the array."
   ]
  },
  {
   "cell_type": "code",
   "execution_count": 204,
   "metadata": {
    "id": "u4QV7NVIuJ4q"
   },
   "outputs": [
    {
     "name": "stdout",
     "output_type": "stream",
     "text": [
      "Shape:  (10, 3)\n",
      "Array:\n",
      "[[  4  -1  -5]\n",
      " [ -3  -3  -2]\n",
      " [  2  -9  -2]\n",
      " [ -1  -1  -7]\n",
      " [ -5  -8  -9]\n",
      " [ -3   2 -11]\n",
      " [ -1  -5  -8]\n",
      " [ -7  -6  -2]\n",
      " [  4 -11 -10]\n",
      " [ -5  -4  -3]]\n",
      "Selected column: 2\n"
     ]
    }
   ],
   "source": [
    "shape = (10, 3)\n",
    "min = -12\n",
    "max = 4\n",
    "my_array = np.random.randint(min, max + 1, shape)\n",
    "selected_column = np.where(my_array == np.min(my_array))[1][0]\n",
    "print('Shape: ', my_array.shape)\n",
    "print('Array:')\n",
    "print(my_array)\n",
    "print(f'Selected column: {selected_column}')"
   ]
  },
  {
   "cell_type": "markdown",
   "metadata": {
    "id": "9ct8lQ4BuJ4q"
   },
   "source": [
    "**Task 5** (0.5 points) <br/>\n",
    "\n",
    "Replace all missing values in the following array with the most appropriate quantile, explain why you chose it."
   ]
  },
  {
   "cell_type": "code",
   "execution_count": 333,
   "metadata": {
    "id": "RJ-6HPUQuJ4q"
   },
   "outputs": [
    {
     "name": "stdout",
     "output_type": "stream",
     "text": [
      "Array:\n",
      "[0.9316538  0.99626765 0.91193299 0.7174666  0.50246522 0.26793081\n",
      "        nan        nan        nan 0.59859942]\n"
     ]
    }
   ],
   "source": [
    "arr = np.random.rand(10)\n",
    "idx = np.random.randint(0, 10, 4)\n",
    "arr[idx] = np.nan\n",
    "\n",
    "print('Array:')\n",
    "print(arr)"
   ]
  },
  {
   "cell_type": "code",
   "execution_count": 328,
   "metadata": {
    "id": "wZV63ohyuJ4q"
   },
   "outputs": [],
   "source": [
    "def replace_missing(arr):\n",
    "    median = np.nanmedian(arr)\n",
    "    arr[np.isnan(arr)] = median\n",
    "    array_without_missing = arr\n",
    "    return array_without_missing"
   ]
  },
  {
   "cell_type": "code",
   "execution_count": 329,
   "metadata": {
    "id": "_hG2tbcPuJ4q"
   },
   "outputs": [
    {
     "name": "stdout",
     "output_type": "stream",
     "text": [
      "Array with no missing values:\n",
      "[0.39916616 0.39920935 0.39916616 0.39916616 0.39916616 0.23076419\n",
      " 0.98432515 0.39912297 0.37619695 0.93802117]\n"
     ]
    }
   ],
   "source": [
    "arr = replace_missing(arr)\n",
    "print('Array with no missing values:')\n",
    "print(arr)"
   ]
  },
  {
   "cell_type": "markdown",
   "metadata": {
    "id": "eacEv4K39AAp"
   },
   "source": [
    "**Answer:** Я выбрал заменить на медиану, потому что, пропущенных значений много (40%), что говорит о том, что наша замена сильно скажется на существующей выборке, при таком большом количестве Nan я бы задумался об удалении данного параметра,но надо заменить, поэтому встает выбор между медианой и средним значением. Но при небольшой выборке (10 значений) может получится так, что среднее значение создат выброс и будет обучать на данных, которых не было изначально. Как я уже сказал, выбор я остановил на медиане."
   ]
  },
  {
   "cell_type": "markdown",
   "metadata": {
    "id": "HX2x-qUEuJ4q"
   },
   "source": [
    "**Task 6** (0.5 points) <br/>\n",
    "Create a function which takes an image ```X``` (3D array of the shape (n, m, 3)) as an input and returns the median and std for every channel (you should get a vector of shape 3, RGB)."
   ]
  },
  {
   "cell_type": "code",
   "execution_count": 292,
   "metadata": {
    "id": "pbdP4x4AuJ4q"
   },
   "outputs": [],
   "source": [
    "def stats_channel(X):\n",
    "    median = np.median(X, axis=(0, 1))\n",
    "    std = np.std(X, axis=(0, 1))\n",
    "    return median, std"
   ]
  },
  {
   "cell_type": "code",
   "execution_count": 302,
   "metadata": {
    "id": "hucX0ybWuJ4q"
   },
   "outputs": [
    {
     "name": "stdout",
     "output_type": "stream",
     "text": [
      "(array([-2., -2., -2.]), array([5.55453423, 5.56107201, 5.50556009]))\n"
     ]
    }
   ],
   "source": [
    "n = 19\n",
    "m = 23\n",
    "X = np.random.randint(-11, 8, size=(n, m, 3))\n",
    "print(stats_channel(X))"
   ]
  },
  {
   "cell_type": "markdown",
   "metadata": {
    "id": "0Pg2nDCxuJ4q"
   },
   "source": [
    "### **Task 7** (1 points) <br/>\n",
    "Create a function which takes a 3D matrix ```X``` as an input and returns all its unique values along the first axis.\n",
    "\n",
    "Sample input:\n",
    "\n",
    "```\n",
    "np.array(\n",
    "  [[[1, 2, 3],\n",
    "    [1, 2, 3],\n",
    "    [1, 2, 3]],\n",
    "\n",
    "   [[4, 5, 6],\n",
    "    [4, 5, 7],\n",
    "    [4, 5, 6]],\n",
    "\n",
    "   [[7, 8, 9],\n",
    "    [7, 8, 9],\n",
    "    [7, 8, 9]]]\n",
    ")\n",
    "```\n",
    "  \n",
    "Sample output:\n",
    "\n",
    "```\n",
    "np.array(\n",
    "  [[[1, 2, 3],\n",
    "    [1, 2, 3]],\n",
    "\n",
    "   [[4, 5, 6],\n",
    "    [4, 5, 7]],\n",
    "\n",
    "   [[7, 8, 9],\n",
    "    [7, 8, 9]]]\n",
    ")\n",
    "```"
   ]
  },
  {
   "cell_type": "code",
   "execution_count": 297,
   "metadata": {
    "id": "YdsrT0G8uJ4q"
   },
   "outputs": [],
   "source": [
    "def get_unique_values(X):\n",
    "    result = np.unique(X, axis=1)\n",
    "    return result"
   ]
  },
  {
   "cell_type": "code",
   "execution_count": 331,
   "metadata": {
    "id": "UNvyiySzuJ4q"
   },
   "outputs": [
    {
     "name": "stdout",
     "output_type": "stream",
     "text": [
      "Matrix:\n",
      "[[[4 4 5]\n",
      "  [5 5 4]\n",
      "  [4 5 4]]\n",
      "\n",
      " [[5 4 4]\n",
      "  [5 5 5]\n",
      "  [5 5 4]]\n",
      "\n",
      " [[5 5 5]\n",
      "  [5 5 5]\n",
      "  [4 5 4]]\n",
      "\n",
      " [[4 4 4]\n",
      "  [5 5 4]\n",
      "  [4 4 5]]\n",
      "\n",
      " [[5 4 4]\n",
      "  [4 4 4]\n",
      "  [4 5 4]]\n",
      "\n",
      " [[5 5 4]\n",
      "  [5 5 4]\n",
      "  [5 4 4]]\n",
      "\n",
      " [[4 5 5]\n",
      "  [4 4 5]\n",
      "  [4 4 4]]\n",
      "\n",
      " [[4 4 5]\n",
      "  [5 4 4]\n",
      "  [4 5 5]]\n",
      "\n",
      " [[5 5 5]\n",
      "  [5 4 4]\n",
      "  [5 5 4]]\n",
      "\n",
      " [[4 4 5]\n",
      "  [5 5 4]\n",
      "  [4 5 4]]\n",
      "\n",
      " [[5 4 5]\n",
      "  [4 5 5]\n",
      "  [5 4 4]]\n",
      "\n",
      " [[4 4 5]\n",
      "  [5 4 5]\n",
      "  [4 5 5]]\n",
      "\n",
      " [[4 4 5]\n",
      "  [4 4 5]\n",
      "  [4 5 5]]\n",
      "\n",
      " [[5 5 5]\n",
      "  [5 4 4]\n",
      "  [5 4 4]]\n",
      "\n",
      " [[4 5 4]\n",
      "  [5 5 4]\n",
      "  [4 4 4]]\n",
      "\n",
      " [[4 4 5]\n",
      "  [4 5 4]\n",
      "  [5 4 5]]\n",
      "\n",
      " [[5 4 4]\n",
      "  [4 5 4]\n",
      "  [4 4 5]]\n",
      "\n",
      " [[5 5 4]\n",
      "  [5 4 4]\n",
      "  [5 5 4]]\n",
      "\n",
      " [[5 5 4]\n",
      "  [5 4 4]\n",
      "  [5 4 5]]]\n",
      "Unique :\n"
     ]
    },
    {
     "data": {
      "text/plain": [
       "array([[[4, 4, 5],\n",
       "        [4, 5, 4],\n",
       "        [5, 5, 4]],\n",
       "\n",
       "       [[5, 4, 4],\n",
       "        [5, 5, 4],\n",
       "        [5, 5, 5]],\n",
       "\n",
       "       [[5, 5, 5],\n",
       "        [4, 5, 4],\n",
       "        [5, 5, 5]],\n",
       "\n",
       "       [[4, 4, 4],\n",
       "        [4, 4, 5],\n",
       "        [5, 5, 4]],\n",
       "\n",
       "       [[5, 4, 4],\n",
       "        [4, 5, 4],\n",
       "        [4, 4, 4]],\n",
       "\n",
       "       [[5, 5, 4],\n",
       "        [5, 4, 4],\n",
       "        [5, 5, 4]],\n",
       "\n",
       "       [[4, 5, 5],\n",
       "        [4, 4, 4],\n",
       "        [4, 4, 5]],\n",
       "\n",
       "       [[4, 4, 5],\n",
       "        [4, 5, 5],\n",
       "        [5, 4, 4]],\n",
       "\n",
       "       [[5, 5, 5],\n",
       "        [5, 5, 4],\n",
       "        [5, 4, 4]],\n",
       "\n",
       "       [[4, 4, 5],\n",
       "        [4, 5, 4],\n",
       "        [5, 5, 4]],\n",
       "\n",
       "       [[5, 4, 5],\n",
       "        [5, 4, 4],\n",
       "        [4, 5, 5]],\n",
       "\n",
       "       [[4, 4, 5],\n",
       "        [4, 5, 5],\n",
       "        [5, 4, 5]],\n",
       "\n",
       "       [[4, 4, 5],\n",
       "        [4, 5, 5],\n",
       "        [4, 4, 5]],\n",
       "\n",
       "       [[5, 5, 5],\n",
       "        [5, 4, 4],\n",
       "        [5, 4, 4]],\n",
       "\n",
       "       [[4, 5, 4],\n",
       "        [4, 4, 4],\n",
       "        [5, 5, 4]],\n",
       "\n",
       "       [[4, 4, 5],\n",
       "        [5, 4, 5],\n",
       "        [4, 5, 4]],\n",
       "\n",
       "       [[5, 4, 4],\n",
       "        [4, 4, 5],\n",
       "        [4, 5, 4]],\n",
       "\n",
       "       [[5, 5, 4],\n",
       "        [5, 5, 4],\n",
       "        [5, 4, 4]],\n",
       "\n",
       "       [[5, 5, 4],\n",
       "        [5, 4, 5],\n",
       "        [5, 4, 4]]])"
      ]
     },
     "execution_count": 331,
     "metadata": {},
     "output_type": "execute_result"
    }
   ],
   "source": [
    "X =  np.random.randint(4, 6, size=(n, 3, 3))\n",
    "print('Matrix:')\n",
    "print(X)\n",
    "print('Unique :')\n",
    "get_unique_values(X)"
   ]
  },
  {
   "cell_type": "markdown",
   "metadata": {
    "id": "W135mraVuJ4r"
   },
   "source": [
    "# 3. Pandas & Visualization (4 points)\n"
   ]
  },
  {
   "cell_type": "markdown",
   "metadata": {
    "id": "_UfaIXGcuJ4r"
   },
   "source": [
    "You are going to work with *Titanic* dataset which contains information about passengers of Titanic:\n",
    "- **Survived** - 1 - survived, 0 - died (0); **Target variable**\n",
    "- **pclass** - passengers's class;\n",
    "- **sex** - passengers's sex\n",
    "- **Age** - passengers's age in years\n",
    "- **sibsp**    - is the passenger someones siblings   \n",
    "- **parch**    - is the passenger someones child or parent\n",
    "- **ticket** - ticket number    \n",
    "- **fare** - ticket price    \n",
    "- **cabin** - cabin number\n",
    "- **embarked** - port of Embarkation; C = Cherbourg, Q = Queenstown, S = Southampton\n",
    "\n",
    "**Note** for all visualizations use matplotlib or seaborn but NOT plotly! Plotly's graphics sometimes vanish after saving. In this case the task won't be graded.\n",
    "\n",
    "**Note** support all your answers with necessary code, computations, vizualization, and explanation. Answers without code and explanation won't be graded.\n",
    "\n",
    "**Task 0** (0 points) \\\n",
    "Load the dataset and print first 6 rows"
   ]
  },
  {
   "cell_type": "code",
   "execution_count": 432,
   "metadata": {
    "id": "92IDku0HuJ4r"
   },
   "outputs": [
    {
     "data": {
      "text/html": [
       "<div>\n",
       "<style scoped>\n",
       "    .dataframe tbody tr th:only-of-type {\n",
       "        vertical-align: middle;\n",
       "    }\n",
       "\n",
       "    .dataframe tbody tr th {\n",
       "        vertical-align: top;\n",
       "    }\n",
       "\n",
       "    .dataframe thead th {\n",
       "        text-align: right;\n",
       "    }\n",
       "</style>\n",
       "<table border=\"1\" class=\"dataframe\">\n",
       "  <thead>\n",
       "    <tr style=\"text-align: right;\">\n",
       "      <th></th>\n",
       "      <th>Survived</th>\n",
       "      <th>Pclass</th>\n",
       "      <th>Name</th>\n",
       "      <th>Sex</th>\n",
       "      <th>Age</th>\n",
       "      <th>SibSp</th>\n",
       "      <th>Parch</th>\n",
       "      <th>Ticket</th>\n",
       "      <th>Fare</th>\n",
       "      <th>Cabin</th>\n",
       "      <th>Embarked</th>\n",
       "    </tr>\n",
       "    <tr>\n",
       "      <th>PassengerId</th>\n",
       "      <th></th>\n",
       "      <th></th>\n",
       "      <th></th>\n",
       "      <th></th>\n",
       "      <th></th>\n",
       "      <th></th>\n",
       "      <th></th>\n",
       "      <th></th>\n",
       "      <th></th>\n",
       "      <th></th>\n",
       "      <th></th>\n",
       "    </tr>\n",
       "  </thead>\n",
       "  <tbody>\n",
       "    <tr>\n",
       "      <th>1</th>\n",
       "      <td>0</td>\n",
       "      <td>3</td>\n",
       "      <td>Braund, Mr. Owen Harris</td>\n",
       "      <td>male</td>\n",
       "      <td>22.0</td>\n",
       "      <td>1</td>\n",
       "      <td>0</td>\n",
       "      <td>A/5 21171</td>\n",
       "      <td>7.2500</td>\n",
       "      <td>NaN</td>\n",
       "      <td>S</td>\n",
       "    </tr>\n",
       "    <tr>\n",
       "      <th>2</th>\n",
       "      <td>1</td>\n",
       "      <td>1</td>\n",
       "      <td>Cumings, Mrs. John Bradley (Florence Briggs Th...</td>\n",
       "      <td>female</td>\n",
       "      <td>38.0</td>\n",
       "      <td>1</td>\n",
       "      <td>0</td>\n",
       "      <td>PC 17599</td>\n",
       "      <td>71.2833</td>\n",
       "      <td>C85</td>\n",
       "      <td>C</td>\n",
       "    </tr>\n",
       "    <tr>\n",
       "      <th>3</th>\n",
       "      <td>1</td>\n",
       "      <td>3</td>\n",
       "      <td>Heikkinen, Miss. Laina</td>\n",
       "      <td>female</td>\n",
       "      <td>26.0</td>\n",
       "      <td>0</td>\n",
       "      <td>0</td>\n",
       "      <td>STON/O2. 3101282</td>\n",
       "      <td>7.9250</td>\n",
       "      <td>NaN</td>\n",
       "      <td>S</td>\n",
       "    </tr>\n",
       "    <tr>\n",
       "      <th>4</th>\n",
       "      <td>1</td>\n",
       "      <td>1</td>\n",
       "      <td>Futrelle, Mrs. Jacques Heath (Lily May Peel)</td>\n",
       "      <td>female</td>\n",
       "      <td>35.0</td>\n",
       "      <td>1</td>\n",
       "      <td>0</td>\n",
       "      <td>113803</td>\n",
       "      <td>53.1000</td>\n",
       "      <td>C123</td>\n",
       "      <td>S</td>\n",
       "    </tr>\n",
       "    <tr>\n",
       "      <th>5</th>\n",
       "      <td>0</td>\n",
       "      <td>3</td>\n",
       "      <td>Allen, Mr. William Henry</td>\n",
       "      <td>male</td>\n",
       "      <td>35.0</td>\n",
       "      <td>0</td>\n",
       "      <td>0</td>\n",
       "      <td>373450</td>\n",
       "      <td>8.0500</td>\n",
       "      <td>NaN</td>\n",
       "      <td>S</td>\n",
       "    </tr>\n",
       "    <tr>\n",
       "      <th>6</th>\n",
       "      <td>0</td>\n",
       "      <td>3</td>\n",
       "      <td>Moran, Mr. James</td>\n",
       "      <td>male</td>\n",
       "      <td>NaN</td>\n",
       "      <td>0</td>\n",
       "      <td>0</td>\n",
       "      <td>330877</td>\n",
       "      <td>8.4583</td>\n",
       "      <td>NaN</td>\n",
       "      <td>Q</td>\n",
       "    </tr>\n",
       "  </tbody>\n",
       "</table>\n",
       "</div>"
      ],
      "text/plain": [
       "             Survived  Pclass  \\\n",
       "PassengerId                     \n",
       "1                   0       3   \n",
       "2                   1       1   \n",
       "3                   1       3   \n",
       "4                   1       1   \n",
       "5                   0       3   \n",
       "6                   0       3   \n",
       "\n",
       "                                                          Name     Sex   Age  \\\n",
       "PassengerId                                                                    \n",
       "1                                      Braund, Mr. Owen Harris    male  22.0   \n",
       "2            Cumings, Mrs. John Bradley (Florence Briggs Th...  female  38.0   \n",
       "3                                       Heikkinen, Miss. Laina  female  26.0   \n",
       "4                 Futrelle, Mrs. Jacques Heath (Lily May Peel)  female  35.0   \n",
       "5                                     Allen, Mr. William Henry    male  35.0   \n",
       "6                                             Moran, Mr. James    male   NaN   \n",
       "\n",
       "             SibSp  Parch            Ticket     Fare Cabin Embarked  \n",
       "PassengerId                                                          \n",
       "1                1      0         A/5 21171   7.2500   NaN        S  \n",
       "2                1      0          PC 17599  71.2833   C85        C  \n",
       "3                0      0  STON/O2. 3101282   7.9250   NaN        S  \n",
       "4                1      0            113803  53.1000  C123        S  \n",
       "5                0      0            373450   8.0500   NaN        S  \n",
       "6                0      0            330877   8.4583   NaN        Q  "
      ]
     },
     "execution_count": 432,
     "metadata": {},
     "output_type": "execute_result"
    }
   ],
   "source": [
    "dataset =  pd.read_csv(\"titanic.csv\", index_col=0)\n",
    "dataset.head(6)"
   ]
  },
  {
   "cell_type": "markdown",
   "metadata": {
    "id": "0FeAHgZtuJ4r"
   },
   "source": [
    "**Task 1** (1 points) <br/>\n",
    "Answer the following questions:\n",
    "    \n",
    "    * Are there any missing values? In what columns?\n",
    "    * What is the percentage of survived passengers? Are the classes balanced?\n",
    "    * Were there more males or females?\n",
    "    * What what the least popular port of embarkation?\n",
    "    * How many passenger classes (pclass) were there on Tinanic?\n",
    "    * What is the overall average ticket fare? And for every passenger class?\n",
    "Please, write not only the answers but the code, proving it."
   ]
  },
  {
   "cell_type": "code",
   "execution_count": 389,
   "metadata": {
    "id": "4PizO86UuJ4r"
   },
   "outputs": [
    {
     "name": "stdout",
     "output_type": "stream",
     "text": [
      "\t1) As we see, there are Nan-values in columns \"Age\", \"Cabin\", \"Embarked\"\n",
      "Age         177\n",
      "Cabin       687\n",
      "Embarked      2\n",
      "dtype: int64\n",
      "\t2) Percentage of survived passengers is 38. Classes are not balanced, because the number of dead exceeds the number of survivors\n",
      "38%\n",
      "\t3) There are more males than females\n",
      "Male = 577 > Female = 314\n",
      "\t4) Least popular port of embarkation was Queenstown\n",
      "Q\n",
      "\t5) There were 3 classes\n",
      "\t6) The overall average ticket fare was: 32.20\n",
      "Pclass\n",
      "1    84.154687\n",
      "2    20.662183\n",
      "3    13.675550\n",
      "Name: Fare, dtype: float64\n"
     ]
    }
   ],
   "source": [
    "print(\"\\t1) As we see, there are Nan-values in columns \\\"Age\\\", \\\"Cabin\\\", \\\"Embarked\\\"\")\n",
    "columns_with_Nan = dataset.isna().sum()\n",
    "print(columns_with_Nan[columns_with_Nan != 0])\n",
    "\n",
    "print(\"\\t2) Percentage of survived passengers is 38. Classes are not balanced, because the number of dead exceeds the number of survivors\")\n",
    "survived = dataset.Survived\n",
    "print(f'{round(survived[survived == 1].shape[0] / dataset.shape[0] * 100)}%')\n",
    "\n",
    "print(\"\\t3) There are more males than females\")\n",
    "print(f'Male = {dataset[dataset.Sex == \"male\"].shape[0]} > Female = {dataset[dataset.Sex == \"female\"].shape[0]}')\n",
    "\n",
    "print(\"\\t4) Least popular port of embarkation was Queenstown\")\n",
    "print(f'{dataset.Embarked.value_counts().idxmin()}')\n",
    "\n",
    "print(f\"\\t5) There were {dataset.Pclass.nunique()} classes\")\n",
    "\n",
    "print(f\"\\t6) The overall average ticket fare was: {dataset.Fare.mean():.2f}\")\n",
    "print(dataset.groupby('Pclass').Fare.mean())"
   ]
  },
  {
   "cell_type": "markdown",
   "metadata": {
    "id": "s9bfz5KbuJ4r"
   },
   "source": [
    "**Task 2** (0.5 points) <br/>\n",
    "Visualize age distribution (you may use a histogram, for example).\n",
    "\n",
    "    * What is the minimal and maximum ages of the passengers? Visualize it on the plot\n",
    "    * What is the median age? And among males and females separately? Visualize it on the separate plot\n",
    "    * Make conclusions about what you see on the plots"
   ]
  },
  {
   "cell_type": "code",
   "execution_count": null,
   "metadata": {
    "id": "q19UF2SHuJ41"
   },
   "outputs": [],
   "source": [
    "## Your code here"
   ]
  },
  {
   "cell_type": "markdown",
   "metadata": {
    "id": "ye6WohwXuJ41"
   },
   "source": [
    "**Task 3** (1 points) <br/>\n",
    "Find all the titles of the passengers (example, *Capt., Mr.,Mme.*), which are written in the column Name, and answer the following questions:\n",
    "\n",
    "    * How many are there unique titles?\n",
    "    * How many are there passengers with every title?\n",
    "    * What is the most popular man's title? And woman's title?\n",
    "    \n",
    "**Hint** You may select the title from the name as a word which contains a dot and is not middle name."
   ]
  },
  {
   "cell_type": "code",
   "execution_count": 440,
   "metadata": {
    "id": "LDBIRnGXuJ41"
   },
   "outputs": [
    {
     "name": "stdout",
     "output_type": "stream",
     "text": [
      "1) Number of unique titles is 17\n",
      "2) There is no passengers with each titles, because there are titles belong to only one person \n",
      "Title\n",
      "Mr          517\n",
      "Miss        182\n",
      "Mrs         125\n",
      "Master       40\n",
      "Dr            7\n",
      "Rev           6\n",
      "Mlle          2\n",
      "Major         2\n",
      "Col           2\n",
      "Countess      1\n",
      "Capt          1\n",
      "Ms            1\n",
      "Sir           1\n",
      "Lady          1\n",
      "Mme           1\n",
      "Don           1\n",
      "Jonkheer      1\n",
      "Name: count, dtype: int64\n"
     ]
    },
    {
     "ename": "AttributeError",
     "evalue": "'Series' object has no attribute 'Title'",
     "output_type": "error",
     "traceback": [
      "\u001b[0;31m---------------------------------------------------------------------------\u001b[0m",
      "\u001b[0;31mAttributeError\u001b[0m                            Traceback (most recent call last)",
      "\u001b[0;32m/var/folders/y6/cjwwf8k157j_pcrn8lng79bm0000gn/T/ipykernel_20675/4061882630.py\u001b[0m in \u001b[0;36m?\u001b[0;34m()\u001b[0m\n\u001b[0;32m----> 6\u001b[0;31m \u001b[0mdataset\u001b[0m\u001b[0;34m[\u001b[0m\u001b[0;34m'Title'\u001b[0m\u001b[0;34m]\u001b[0m \u001b[0;34m=\u001b[0m \u001b[0mdataset\u001b[0m\u001b[0;34m.\u001b[0m\u001b[0mName\u001b[0m\u001b[0;34m.\u001b[0m\u001b[0mstr\u001b[0m\u001b[0;34m.\u001b[0m\u001b[0mextract\u001b[0m\u001b[0;34m(\u001b[0m\u001b[0;34m' ([A-Za-z]+)\\.'\u001b[0m\u001b[0;34m,\u001b[0m \u001b[0mexpand\u001b[0m\u001b[0;34m=\u001b[0m\u001b[0;32mFalse\u001b[0m\u001b[0;34m)\u001b[0m\u001b[0;34m\u001b[0m\u001b[0;34m\u001b[0m\u001b[0m\n\u001b[0m\u001b[1;32m      7\u001b[0m \u001b[0mprint\u001b[0m\u001b[0;34m(\u001b[0m\u001b[0;34mf\"1) Number of unique titles is {dataset.Title.nunique()}\"\u001b[0m\u001b[0;34m)\u001b[0m\u001b[0;34m\u001b[0m\u001b[0;34m\u001b[0m\u001b[0m\n\u001b[1;32m      8\u001b[0m \u001b[0;34m\u001b[0m\u001b[0m\n\u001b[1;32m      9\u001b[0m \u001b[0mprint\u001b[0m\u001b[0;34m(\u001b[0m\u001b[0;34mf\"2) There is no passengers with each titles, because there are titles belong to only one person \\n{dataset.Title.value_counts()}\"\u001b[0m\u001b[0;34m)\u001b[0m\u001b[0;34m\u001b[0m\u001b[0;34m\u001b[0m\u001b[0m\n",
      "\u001b[0;32m/opt/homebrew/lib/python3.9/site-packages/pandas/core/generic.py\u001b[0m in \u001b[0;36m?\u001b[0;34m(self, name)\u001b[0m\n\u001b[1;32m   6200\u001b[0m             \u001b[0;32mand\u001b[0m \u001b[0mname\u001b[0m \u001b[0;32mnot\u001b[0m \u001b[0;32min\u001b[0m \u001b[0mself\u001b[0m\u001b[0;34m.\u001b[0m\u001b[0m_accessors\u001b[0m\u001b[0;34m\u001b[0m\u001b[0;34m\u001b[0m\u001b[0m\n\u001b[1;32m   6201\u001b[0m             \u001b[0;32mand\u001b[0m \u001b[0mself\u001b[0m\u001b[0;34m.\u001b[0m\u001b[0m_info_axis\u001b[0m\u001b[0;34m.\u001b[0m\u001b[0m_can_hold_identifiers_and_holds_name\u001b[0m\u001b[0;34m(\u001b[0m\u001b[0mname\u001b[0m\u001b[0;34m)\u001b[0m\u001b[0;34m\u001b[0m\u001b[0;34m\u001b[0m\u001b[0m\n\u001b[1;32m   6202\u001b[0m         ):\n\u001b[1;32m   6203\u001b[0m             \u001b[0;32mreturn\u001b[0m \u001b[0mself\u001b[0m\u001b[0;34m[\u001b[0m\u001b[0mname\u001b[0m\u001b[0;34m]\u001b[0m\u001b[0;34m\u001b[0m\u001b[0;34m\u001b[0m\u001b[0m\n\u001b[0;32m-> 6204\u001b[0;31m         \u001b[0;32mreturn\u001b[0m \u001b[0mobject\u001b[0m\u001b[0;34m.\u001b[0m\u001b[0m__getattribute__\u001b[0m\u001b[0;34m(\u001b[0m\u001b[0mself\u001b[0m\u001b[0;34m,\u001b[0m \u001b[0mname\u001b[0m\u001b[0;34m)\u001b[0m\u001b[0;34m\u001b[0m\u001b[0;34m\u001b[0m\u001b[0m\n\u001b[0m",
      "\u001b[0;31mAttributeError\u001b[0m: 'Series' object has no attribute 'Title'"
     ]
    }
   ],
   "source": [
    "dataset['Title'] = dataset.Name.str.extract(' ([A-Za-z]+)\\.', expand=False)\n",
    "print(f\"1) Number of unique titles is {dataset.Title.nunique()}\")\n",
    "\n",
    "print(f\"2) There is no passengers with each titles, because there are titles belong to only one person \\n{dataset.Title.value_counts()}\")\n",
    "\n",
    "print(f\"Men's most popular title: {dataset.Title[dataset.Sex == 'male'].Title.value_counts().idxmax()}\")\n",
    "print(f\"Women's most popular title: {dataset.Title[dataset.Sex == 'female'].Title.value_counts().idxmax()}\")"
   ]
  },
  {
   "cell_type": "markdown",
   "metadata": {
    "id": "n0RsqbTPuJ41"
   },
   "source": [
    "**Task 4** (0.5 points) <br/>\n",
    "Is there correlation between *pclass* and *ticket price*? Calculate mean price for each class and visualize price distribution for each class as well. Make conclusions about what you see on the plot\n",
    "\n",
    "Hint: you could make one or several plot types i.e.  box, violine, pair, histogram (see additional notebooks for Seminar 1 \"Visualization with Seaborn\"). Main point here is to **choose** plots wisely and **make meaningful conclusions**\n",
    "\n"
   ]
  },
  {
   "cell_type": "code",
   "execution_count": null,
   "metadata": {
    "id": "fkvVvnHPuJ41"
   },
   "outputs": [],
   "source": [
    "## You code here"
   ]
  },
  {
   "cell_type": "markdown",
   "metadata": {
    "id": "UcptRilCuJ41"
   },
   "source": [
    "**Task 5** (0.5 points) <br/>\n",
    "The same question as in task 4 about correlation between *embarked* and *ticket priсe*."
   ]
  },
  {
   "cell_type": "code",
   "execution_count": null,
   "metadata": {
    "id": "biR9anS5uJ41"
   },
   "outputs": [],
   "source": [
    "## You code here"
   ]
  },
  {
   "cell_type": "markdown",
   "metadata": {
    "id": "eeKKfMOguJ41"
   },
   "source": [
    "**Task 6** (0.5 points) <br/>\n",
    "Visualize age distribution for survived and not survived passengers separately and calculate the mean age for each class. Are they different? Provide the same visualization for males and females separately. Make conclusions about what you see on the plots"
   ]
  },
  {
   "cell_type": "code",
   "execution_count": null,
   "metadata": {
    "id": "udmgFlQTuJ42"
   },
   "outputs": [],
   "source": [
    "## You code here"
   ]
  }
 ],
 "metadata": {
  "colab": {
   "provenance": []
  },
  "kernelspec": {
   "display_name": "Python 3 (ipykernel)",
   "language": "python",
   "name": "python3"
  },
  "language_info": {
   "codemirror_mode": {
    "name": "ipython",
    "version": 3
   },
   "file_extension": ".py",
   "mimetype": "text/x-python",
   "name": "python",
   "nbconvert_exporter": "python",
   "pygments_lexer": "ipython3",
   "version": "3.9.16"
  }
 },
 "nbformat": 4,
 "nbformat_minor": 4
}
