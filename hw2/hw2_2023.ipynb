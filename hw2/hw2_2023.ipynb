{
 "cells": [
  {
   "cell_type": "markdown",
   "metadata": {
    "id": "tBrDXMdDy-Qn"
   },
   "source": [
    "# HSE 2023: Введение в машинное обучение БИ 23/24\n",
    "\n",
    "## ДЗ 2"
   ]
  },
  {
   "cell_type": "markdown",
   "metadata": {
    "id": "RXXi5K1mf41d"
   },
   "source": [
    "# Внимание!\n",
    "Если в задании просят объяснить что-либо, то это значит, что требуется письменный ответ, который является частью задания и оценивается\n",
    "\n",
    "Мы только принимаем ipynb ноутбуки. Если вы используете Google Colab, то вам необходимо скачать ноутбук перед сдачей ДЗ\n"
   ]
  },
  {
   "cell_type": "code",
   "execution_count": 2,
   "metadata": {
    "ExecuteTime": {
     "end_time": "2020-09-26T16:48:20.566549Z",
     "start_time": "2020-09-26T16:48:19.893995Z"
    },
    "id": "mSR-a9vVy-Qp"
   },
   "outputs": [],
   "source": [
    "import pandas as pd\n",
    "import numpy as np\n",
    "import matplotlib.pyplot as plt\n",
    "import seaborn as sns\n",
    "import sklearn\n",
    "from sklearn import datasets\n",
    "# from sklearn.datasets import load_boston\n",
    "from sklearn.model_selection import GridSearchCV\n",
    "from sklearn.model_selection import train_test_split\n",
    "from sklearn.linear_model import Ridge\n",
    "from sklearn.preprocessing import StandardScaler, LabelEncoder\n",
    "from sklearn.linear_model import LinearRegression, Ridge, Lasso, ElasticNet\n",
    "from sklearn.metrics import mean_squared_error, r2_score\n",
    "import statsmodels.api as sm\n",
    "from statsmodels.regression.linear_model import OLSResults\n",
    "from math import sqrt\n",
    "import random\n",
    "import sys\n",
    "\n",
    "import warnings\n",
    "warnings.filterwarnings(\"ignore\")\n",
    "\n",
    "%matplotlib inline\n",
    "\n",
    "sns.set(style=\"darkgrid\")"
   ]
  },
  {
   "cell_type": "markdown",
   "metadata": {
    "id": "HUjuv9Qty-Qq"
   },
   "source": [
    "### Данные\n",
    "\n",
    "Для этого ДЗ мы будем использовать датасет треков со стримингового сервиса Spotify"
   ]
  },
  {
   "cell_type": "markdown",
   "metadata": {},
   "source": [
    "**Описание данных**\n",
    "\n",
    "- **track_id:** The Spotify ID for the track\n",
    "- **artists:** The artists' names who performed the track. If there is more than one artist, they are separated by a ;\n",
    "- **album_name:** The album name in which the track appears\n",
    "- **track_name:** Name of the track\n",
    "- **popularity:** The popularity of a track is a value between 0 and 100, with 100 being the most popular. The popularity is calculated by algorithm and is based, in the most part, on the total number of plays the track has had and how recent those plays are. Generally speaking, songs that are being played a lot now will have a higher popularity than songs that were played a lot in the past. Duplicate tracks (e.g. the same track from a single and an album) are rated independently. Artist and album popularity is derived mathematically from track popularity.\n",
    "- **duration_ms:** The track length in milliseconds\n",
    "- **explicit:** Whether or not the track has explicit lyrics (true = yes it does; false = no it does not OR unknown)\n",
    "- **danceability:** Danceability describes how suitable a track is for dancing based on a combination of musical elements including tempo, rhythm stability, beat strength, and overall regularity. A value of 0.0 is least danceable and 1.0 is most danceable\n",
    "- **key:** The key the track is in. Integers map to pitches using standard Pitch Class notation. E.g. 0 = C, 1 = C♯/D♭, 2 = D, and so on. If no key was detected, the value is -1\n",
    "- **loudness:** The overall loudness of a track in decibels (dB)\n",
    "- **mode:** Mode indicates the modality (major or minor) of a track, the type of scale from which its melodic content is derived. Major is represented by 1 and minor is 0\n",
    "- **speechiness:** Speechiness detects the presence of spoken words in a track. The more exclusively speech-like the recording (e.g. talk show, audio book, poetry), the closer to 1.0 the attribute value. Values above 0.66 describe tracks that are probably made entirely of spoken words. Values between 0.33 and 0.66 describe tracks that may contain both music and speech, either in sections or layered, including such cases as rap music. Values below 0.33 most likely represent music and other non-speech-like tracks\n",
    "- **acousticness:** A confidence measure from 0.0 to 1.0 of whether the track is acoustic. 1.0 represents high confidence the track is acoustic\n",
    "- **instrumentalness:** Predicts whether a track contains no vocals. \"Ooh\" and \"aah\" sounds are treated as instrumental in this context. Rap or spoken word tracks are clearly \"vocal\". The closer the instrumentalness value is to 1.0, the greater likelihood the track contains no vocal content\n",
    "- **liveness:** Detects the presence of an audience in the recording. Higher liveness values represent an increased probability that the track was performed live. A value above 0.8 provides strong likelihood that the track is live\n",
    "- **valence:** A measure from 0.0 to 1.0 describing the musical positiveness conveyed by a track. Tracks with high valence sound more positive (e.g. happy, cheerful, euphoric), while tracks with low valence sound more negative (e.g. sad, depressed, angry)\n",
    "- **tempo:** The overall estimated tempo of a track in beats per minute (BPM). In musical terminology, tempo is the speed or pace of a given piece and derives directly from the average beat duration\n",
    "- **time_signature:** An estimated time signature. The time signature (meter) is a notational convention to specify how many beats are in each bar (or measure). The time signature ranges from 3 to 7 indicating time signatures of 3/4, to 7/4.\n",
    "- **track_genre:** The genre in which the track belongs\n",
    "\n",
    "**Целевая переменная**\n",
    "- **energy:** Energy is a measure from 0.0 to 1.0 and represents a perceptual measure of intensity and activity. Typically, energetic tracks feel fast, loud, and noisy. For example, death metal has high energy, while a Bach prelude scores low on the scale"
   ]
  },
  {
   "cell_type": "code",
   "execution_count": 3,
   "metadata": {
    "id": "tHWSWTXDy-Qq"
   },
   "outputs": [
    {
     "name": "stdout",
     "output_type": "stream",
     "text": [
      " * Count of rows, contains Nan values: 1\n",
      "\n"
     ]
    }
   ],
   "source": [
    "data = pd.read_csv('dataset.csv')\n",
    "\n",
    "# Посмотрим датасет на наличие в нем Nan\n",
    "print(f\" * Count of rows, contains Nan values: {data[data.isna().any(axis=1)].shape[0]}\\n\")\n",
    "\n",
    "# Всего одна строка, просто удалим ее\n",
    "# data = data.dropna()\n",
    "\n",
    "y = data['energy']\n",
    "X = data.drop(['energy'], axis=1)\n",
    "columns = X.columns"
   ]
  },
  {
   "cell_type": "markdown",
   "metadata": {
    "id": "K81w8s35y-Qq"
   },
   "source": [
    "## Линейная регрессия"
   ]
  },
  {
   "cell_type": "markdown",
   "metadata": {
    "id": "cYgEN-FMy-Qr"
   },
   "source": [
    "#### 0. [0.25 балла] Закодируйте категориальные признаки. Объясните выбранный вами метод."
   ]
  },
  {
   "cell_type": "code",
   "execution_count": 4,
   "metadata": {
    "id": "-IrSlQaWy-Qr"
   },
   "outputs": [
    {
     "name": "stdout",
     "output_type": "stream",
     "text": [
      " * Categorical: ['artists', 'album_name', 'track_name', 'track_genre']\n",
      " * Unique values: \n",
      "\tArtists - 31437 \n",
      "\tGenres - 114\n"
     ]
    }
   ],
   "source": [
    "# Найдем все категориальные признаки\n",
    "categorical = list(X.dtypes[X.dtypes == \"object\"].index)\n",
    "print(f\" * Categorical: {categorical}\")\n",
    "\n",
    "# Я дропнул признаки с названиями, потому что они не несут никакой прикладной информации об энергичности трека.\n",
    "X = X.drop([\"album_name\", \"track_name\"], axis=1)\n",
    "categorical.remove(\"album_name\")\n",
    "categorical.remove(\"track_name\")\n",
    "\n",
    "# А вот имена авторов и жанры я дропать не стал, так как они содержат полезную информацию. \n",
    "# Большинство артистов пишут музыку в определенном узнаваемом стиле, потому, увидев в строке Rammstein или Depeche mode, \n",
    "# можно предсказать энергетику песни. Ну с жанрами тоже самое. Я решил закодировать эти признаки с помощью target encoding, потому что \n",
    "# они не является упорядоченными и содержат большое количество значений, что не очень хочется превращать в дополнительные колонки\n",
    "print(f\" * Unique values: \\n\\tArtists - {X['artists'].nunique()} \\n\\tGenres - {X['track_genre'].nunique()}\")\n",
    "\n",
    "from category_encoders import TargetEncoder\n",
    "\n",
    "target_encoder = TargetEncoder()\n",
    "X_encoded = target_encoder.fit_transform(X, y)"
   ]
  },
  {
   "cell_type": "markdown",
   "metadata": {
    "id": "7dVwP45Gy-Qr"
   },
   "source": [
    "#### 1. [0.25 балла] Разбейте данные на train и test с пропорцией 75:25 и random_state=7. "
   ]
  },
  {
   "cell_type": "code",
   "execution_count": 5,
   "metadata": {
    "id": "U7z8TIh5y-Qs",
    "scrolled": true
   },
   "outputs": [],
   "source": [
    "X_train, X_test, y_train, y_test = train_test_split(X_encoded, y, test_size=0.25, random_state=7)"
   ]
  },
  {
   "cell_type": "markdown",
   "metadata": {
    "id": "7daIQRfKy-Qs",
    "tags": []
   },
   "source": [
    "#### 2. [0.75 балла] Обучите модели на train'е, исключив категориальные признаки, используя библиотеку StatsModels и примените ее к test'у; используйте $RMSE$ и $R ^ 2$ в качестве метрики качества. Попробуйте также применить реализации линейной регрессии из sklearn:\n",
    "\n",
    "* [`LinearRegression`](http://scikit-learn.org/stable/modules/generated/sklearn.linear_model.LinearRegression.html);\n",
    "* [`Ridge`](http://scikit-learn.org/stable/modules/generated/sklearn.linear_model.Ridge.html) with $\\alpha = 0.03$;\n",
    "* [`Lasso`](http://scikit-learn.org/stable/modules/generated/sklearn.linear_model.Lasso.html) with $\\alpha = 0.05$\n",
    "* [`ElasticNet`](https://scikit-learn.org/stable/modules/generated/sklearn.linear_model.ElasticNet.html) with $\\alpha = 0.01$, $l_{1}$_$ratio = 0.4$\n",
    "\n",
    "Не забывайте скейлить данные с помощью StandardScaler перед обучением моделей! "
   ]
  },
  {
   "cell_type": "code",
   "execution_count": 6,
   "metadata": {},
   "outputs": [],
   "source": [
    "# Функция, обучающая модели\n",
    "def train_on_models (X_train, X_test, y_train, y_test):\n",
    "    \n",
    "    # Масштабируем признаки\n",
    "    scaler = StandardScaler()\n",
    "    X_train_scaled = pd.DataFrame(data=scaler.fit_transform(X_train), columns=X_train.columns)\n",
    "    X_test_scaled = pd.DataFrame(data=scaler.transform(X_test), columns=X_test.columns)\n",
    "    y_train = list(y_train)\n",
    "    y_test = list(y_test)\n",
    "\n",
    "    X_train_scaled = sm.add_constant(X_train_scaled)\n",
    "    X_test_scaled = sm.add_constant(X_test_scaled)\n",
    "    \n",
    "    models = [ \n",
    "               (\"LinearRegressionModel (statsModels)\", sm.OLS(y_train, X_train_scaled).fit()),\n",
    "               (\"LinearRegressionModel (sklearn)\", LinearRegression().fit(X_train_scaled, y_train)), \n",
    "               (\"RidgeModel\", Ridge(alpha=0.03).fit(X_train_scaled, y_train)), \n",
    "               (\"LassoModel\", Lasso(alpha=0.05).fit(X_train_scaled, y_train)), \n",
    "               (\"ElasricNetModel\", ElasticNet(alpha=0.01, l1_ratio=0.4).fit(X_train_scaled, y_train))\n",
    "             ]\n",
    "    \n",
    "    for model in models:\n",
    "        y_pred = model[1].predict(X_test_scaled)\n",
    "        y_train_pred = model[1].predict(X_train_scaled)\n",
    "\n",
    "        print(f\"{model[0]}:\")\n",
    "        print(\"\\tTrain RMSE = %.4f\" % mean_squared_error(y_train, y_train_pred, squared=False))\n",
    "        print(\"\\tTest RMSE = %.4f\" % mean_squared_error(y_test, y_pred, squared=False))\n",
    "        print(\"\\tTrain R^2 = %.4f\" % r2_score(y_train, y_train_pred))\n",
    "        print(\"\\tTest R^2 = %.4f\" % r2_score(y_test, y_pred))\n",
    "\n",
    "    return models"
   ]
  },
  {
   "cell_type": "code",
   "execution_count": 7,
   "metadata": {
    "id": "Bkbr5iFCy-Qs"
   },
   "outputs": [
    {
     "name": "stdout",
     "output_type": "stream",
     "text": [
      "LinearRegressionModel (statsModels):\n",
      "\tTrain RMSE = 0.1218\n",
      "\tTest RMSE = 0.1215\n",
      "\tTrain R^2 = 0.7660\n",
      "\tTest R^2 = 0.7650\n",
      "LinearRegressionModel (sklearn):\n",
      "\tTrain RMSE = 0.1218\n",
      "\tTest RMSE = 0.1215\n",
      "\tTrain R^2 = 0.7660\n",
      "\tTest R^2 = 0.7650\n",
      "RidgeModel:\n",
      "\tTrain RMSE = 0.1218\n",
      "\tTest RMSE = 0.1215\n",
      "\tTrain R^2 = 0.7660\n",
      "\tTest R^2 = 0.7650\n",
      "LassoModel:\n",
      "\tTrain RMSE = 0.1479\n",
      "\tTest RMSE = 0.1471\n",
      "\tTrain R^2 = 0.6551\n",
      "\tTest R^2 = 0.6556\n",
      "ElasricNetModel:\n",
      "\tTrain RMSE = 0.1228\n",
      "\tTest RMSE = 0.1225\n",
      "\tTrain R^2 = 0.7622\n",
      "\tTest R^2 = 0.7613\n"
     ]
    }
   ],
   "source": [
    "# Получим все некатегориальные признаки \n",
    "X_train_wo_cat = X_train.drop(categorical, axis=1)\n",
    "X_test_wo_cat = X_test.drop(categorical, axis=1)\n",
    "\n",
    "models_wo_cat = train_on_models(X_train_wo_cat, X_test_wo_cat, y_train, y_test)"
   ]
  },
  {
   "cell_type": "markdown",
   "metadata": {},
   "source": [
    "#### 3. [0.25 балла] Повторите шаги из предыдущего пункта, добавив категориальные признаки. Прокомментируйте изменения значений метрик качества"
   ]
  },
  {
   "cell_type": "code",
   "execution_count": 8,
   "metadata": {},
   "outputs": [
    {
     "name": "stdout",
     "output_type": "stream",
     "text": [
      "LinearRegressionModel (statsModels):\n",
      "\tTrain RMSE = 0.1119\n",
      "\tTest RMSE = 0.1120\n",
      "\tTrain R^2 = 0.8024\n",
      "\tTest R^2 = 0.8002\n",
      "LinearRegressionModel (sklearn):\n",
      "\tTrain RMSE = 0.1119\n",
      "\tTest RMSE = 0.1120\n",
      "\tTrain R^2 = 0.8024\n",
      "\tTest R^2 = 0.8002\n",
      "RidgeModel:\n",
      "\tTrain RMSE = 0.1119\n",
      "\tTest RMSE = 0.1120\n",
      "\tTrain R^2 = 0.8024\n",
      "\tTest R^2 = 0.8002\n",
      "LassoModel:\n",
      "\tTrain RMSE = 0.1376\n",
      "\tTest RMSE = 0.1371\n",
      "\tTrain R^2 = 0.7015\n",
      "\tTest R^2 = 0.7007\n",
      "ElasricNetModel:\n",
      "\tTrain RMSE = 0.1129\n",
      "\tTest RMSE = 0.1130\n",
      "\tTrain R^2 = 0.7989\n",
      "\tTest R^2 = 0.7967\n"
     ]
    }
   ],
   "source": [
    "models = train_on_models(X_train, X_test, y_train, y_test)\n",
    "\n",
    "# Метрика RMSE стала меньше, а R^2 больше, что свидетельствует о повышении качества обученной модели.\n",
    "# В целом ожидаемо, ведь, как я раньше писал, данные категориальные признаки содержат полезную информацию"
   ]
  },
  {
   "cell_type": "markdown",
   "metadata": {
    "id": "69JOftKRy-Qt"
   },
   "source": [
    "#### 4. [1 балл] Исследуйте значения параметров полученных моделей и проверьте какие веса получились нулевыми. Прокомментируйте значимость коэффициентов, обшую значимость модели и остальные факторы из результирующей таблицы "
   ]
  },
  {
   "cell_type": "code",
   "execution_count": 9,
   "metadata": {
    "id": "Np1biYQ7y-Qt"
   },
   "outputs": [
    {
     "data": {
      "text/html": [
       "<table class=\"simpletable\">\n",
       "<tr>\n",
       "        <td>Model:</td>               <td>OLS</td>         <td>Adj. R-squared:</td>       <td>0.802</td>   \n",
       "</tr>\n",
       "<tr>\n",
       "  <td>Dependent Variable:</td>         <td>y</td>               <td>AIC:</td>         <td>-131777.6902</td>\n",
       "</tr>\n",
       "<tr>\n",
       "         <td>Date:</td>        <td>2023-10-20 01:33</td>        <td>BIC:</td>         <td>-131618.6336</td>\n",
       "</tr>\n",
       "<tr>\n",
       "   <td>No. Observations:</td>        <td>85500</td>        <td>Log-Likelihood:</td>      <td>65906.</td>   \n",
       "</tr>\n",
       "<tr>\n",
       "       <td>Df Model:</td>             <td>16</td>           <td>F-statistic:</td>       <td>2.169e+04</td> \n",
       "</tr>\n",
       "<tr>\n",
       "     <td>Df Residuals:</td>          <td>85483</td>      <td>Prob (F-statistic):</td>     <td>0.00</td>    \n",
       "</tr>\n",
       "<tr>\n",
       "      <td>R-squared:</td>            <td>0.802</td>            <td>Scale:</td>          <td>0.012534</td>  \n",
       "</tr>\n",
       "</table>\n",
       "<table class=\"simpletable\">\n",
       "<tr>\n",
       "          <td></td>          <th>Coef.</th>  <th>Std.Err.</th>     <th>t</th>      <th>P>|t|</th> <th>[0.025</th>  <th>0.975]</th> \n",
       "</tr>\n",
       "<tr>\n",
       "  <th>const</th>            <td>0.6420</td>   <td>0.0004</td>  <td>1676.7987</td> <td>0.0000</td> <td>0.6413</td>  <td>0.6428</td> \n",
       "</tr>\n",
       "<tr>\n",
       "  <th>artists</th>          <td>0.0506</td>   <td>0.0005</td>   <td>94.1007</td>  <td>0.0000</td> <td>0.0496</td>  <td>0.0517</td> \n",
       "</tr>\n",
       "<tr>\n",
       "  <th>popularity</th>       <td>-0.0029</td>  <td>0.0004</td>   <td>-7.5058</td>  <td>0.0000</td> <td>-0.0037</td> <td>-0.0021</td>\n",
       "</tr>\n",
       "<tr>\n",
       "  <th>duration_ms</th>      <td>0.0015</td>   <td>0.0004</td>   <td>3.7313</td>   <td>0.0002</td> <td>0.0007</td>  <td>0.0022</td> \n",
       "</tr>\n",
       "<tr>\n",
       "  <th>explicit</th>         <td>-0.0026</td>  <td>0.0004</td>   <td>-6.3591</td>  <td>0.0000</td> <td>-0.0034</td> <td>-0.0018</td>\n",
       "</tr>\n",
       "<tr>\n",
       "  <th>danceability</th>     <td>-0.0271</td>  <td>0.0005</td>  <td>-57.7553</td>  <td>0.0000</td> <td>-0.0280</td> <td>-0.0262</td>\n",
       "</tr>\n",
       "<tr>\n",
       "  <th>key</th>              <td>0.0005</td>   <td>0.0004</td>   <td>1.2605</td>   <td>0.2075</td> <td>-0.0003</td> <td>0.0012</td> \n",
       "</tr>\n",
       "<tr>\n",
       "  <th>loudness</th>         <td>0.1114</td>   <td>0.0006</td>  <td>191.6778</td>  <td>0.0000</td> <td>0.1103</td>  <td>0.1126</td> \n",
       "</tr>\n",
       "<tr>\n",
       "  <th>mode</th>             <td>-0.0027</td>  <td>0.0004</td>   <td>-6.9433</td>  <td>0.0000</td> <td>-0.0035</td> <td>-0.0019</td>\n",
       "</tr>\n",
       "<tr>\n",
       "  <th>speechiness</th>      <td>0.0217</td>   <td>0.0004</td>   <td>51.7388</td>  <td>0.0000</td> <td>0.0209</td>  <td>0.0225</td> \n",
       "</tr>\n",
       "<tr>\n",
       "  <th>acousticness</th>     <td>-0.0748</td>  <td>0.0006</td>  <td>-132.9598</td> <td>0.0000</td> <td>-0.0759</td> <td>-0.0737</td>\n",
       "</tr>\n",
       "<tr>\n",
       "  <th>instrumentalness</th> <td>0.0335</td>   <td>0.0005</td>   <td>74.1420</td>  <td>0.0000</td> <td>0.0326</td>  <td>0.0344</td> \n",
       "</tr>\n",
       "<tr>\n",
       "  <th>liveness</th>         <td>0.0213</td>   <td>0.0004</td>   <td>52.9467</td>  <td>0.0000</td> <td>0.0205</td>  <td>0.0221</td> \n",
       "</tr>\n",
       "<tr>\n",
       "  <th>valence</th>          <td>0.0376</td>   <td>0.0005</td>   <td>80.3390</td>  <td>0.0000</td> <td>0.0367</td>  <td>0.0386</td> \n",
       "</tr>\n",
       "<tr>\n",
       "  <th>tempo</th>            <td>0.0054</td>   <td>0.0004</td>   <td>13.4448</td>  <td>0.0000</td> <td>0.0046</td>  <td>0.0062</td> \n",
       "</tr>\n",
       "<tr>\n",
       "  <th>time_signature</th>   <td>0.0050</td>   <td>0.0004</td>   <td>12.5617</td>  <td>0.0000</td> <td>0.0042</td>  <td>0.0058</td> \n",
       "</tr>\n",
       "<tr>\n",
       "  <th>track_genre</th>      <td>0.0260</td>   <td>0.0006</td>   <td>45.9513</td>  <td>0.0000</td> <td>0.0249</td>  <td>0.0271</td> \n",
       "</tr>\n",
       "</table>\n",
       "<table class=\"simpletable\">\n",
       "<tr>\n",
       "     <td>Omnibus:</td>    <td>5310.370</td>  <td>Durbin-Watson:</td>     <td>1.994</td>  \n",
       "</tr>\n",
       "<tr>\n",
       "  <td>Prob(Omnibus):</td>   <td>0.000</td>  <td>Jarque-Bera (JB):</td> <td>23284.542</td>\n",
       "</tr>\n",
       "<tr>\n",
       "       <td>Skew:</td>       <td>0.117</td>      <td>Prob(JB):</td>       <td>0.000</td>  \n",
       "</tr>\n",
       "<tr>\n",
       "     <td>Kurtosis:</td>     <td>5.546</td>   <td>Condition No.:</td>       <td>3</td>    \n",
       "</tr>\n",
       "</table><br/>\n",
       "Notes:<br/>\n",
       "[1] Standard Errors assume that the covariance matrix of the errors is correctly specified."
      ],
      "text/latex": [
       "\\begin{table}\n",
       "\\caption{Results: Ordinary least squares}\n",
       "\\label{}\n",
       "\\begin{center}\n",
       "\\begin{tabular}{llll}\n",
       "\\hline\n",
       "Model:              & OLS              & Adj. R-squared:     & 0.802         \\\\\n",
       "Dependent Variable: & y                & AIC:                & -131777.6902  \\\\\n",
       "Date:               & 2023-10-20 01:33 & BIC:                & -131618.6336  \\\\\n",
       "No. Observations:   & 85500            & Log-Likelihood:     & 65906.        \\\\\n",
       "Df Model:           & 16               & F-statistic:        & 2.169e+04     \\\\\n",
       "Df Residuals:       & 85483            & Prob (F-statistic): & 0.00          \\\\\n",
       "R-squared:          & 0.802            & Scale:              & 0.012534      \\\\\n",
       "\\hline\n",
       "\\end{tabular}\n",
       "\\end{center}\n",
       "\n",
       "\\begin{center}\n",
       "\\begin{tabular}{lrrrrrr}\n",
       "\\hline\n",
       "                 &   Coef. & Std.Err. &         t & P$> |$t$|$ &  [0.025 &  0.975]  \\\\\n",
       "\\hline\n",
       "const            &  0.6420 &   0.0004 & 1676.7987 &      0.0000 &  0.6413 &  0.6428  \\\\\n",
       "artists          &  0.0506 &   0.0005 &   94.1007 &      0.0000 &  0.0496 &  0.0517  \\\\\n",
       "popularity       & -0.0029 &   0.0004 &   -7.5058 &      0.0000 & -0.0037 & -0.0021  \\\\\n",
       "duration\\_ms     &  0.0015 &   0.0004 &    3.7313 &      0.0002 &  0.0007 &  0.0022  \\\\\n",
       "explicit         & -0.0026 &   0.0004 &   -6.3591 &      0.0000 & -0.0034 & -0.0018  \\\\\n",
       "danceability     & -0.0271 &   0.0005 &  -57.7553 &      0.0000 & -0.0280 & -0.0262  \\\\\n",
       "key              &  0.0005 &   0.0004 &    1.2605 &      0.2075 & -0.0003 &  0.0012  \\\\\n",
       "loudness         &  0.1114 &   0.0006 &  191.6778 &      0.0000 &  0.1103 &  0.1126  \\\\\n",
       "mode             & -0.0027 &   0.0004 &   -6.9433 &      0.0000 & -0.0035 & -0.0019  \\\\\n",
       "speechiness      &  0.0217 &   0.0004 &   51.7388 &      0.0000 &  0.0209 &  0.0225  \\\\\n",
       "acousticness     & -0.0748 &   0.0006 & -132.9598 &      0.0000 & -0.0759 & -0.0737  \\\\\n",
       "instrumentalness &  0.0335 &   0.0005 &   74.1420 &      0.0000 &  0.0326 &  0.0344  \\\\\n",
       "liveness         &  0.0213 &   0.0004 &   52.9467 &      0.0000 &  0.0205 &  0.0221  \\\\\n",
       "valence          &  0.0376 &   0.0005 &   80.3390 &      0.0000 &  0.0367 &  0.0386  \\\\\n",
       "tempo            &  0.0054 &   0.0004 &   13.4448 &      0.0000 &  0.0046 &  0.0062  \\\\\n",
       "time\\_signature  &  0.0050 &   0.0004 &   12.5617 &      0.0000 &  0.0042 &  0.0058  \\\\\n",
       "track\\_genre     &  0.0260 &   0.0006 &   45.9513 &      0.0000 &  0.0249 &  0.0271  \\\\\n",
       "\\hline\n",
       "\\end{tabular}\n",
       "\\end{center}\n",
       "\n",
       "\\begin{center}\n",
       "\\begin{tabular}{llll}\n",
       "\\hline\n",
       "Omnibus:       & 5310.370 & Durbin-Watson:    & 1.994      \\\\\n",
       "Prob(Omnibus): & 0.000    & Jarque-Bera (JB): & 23284.542  \\\\\n",
       "Skew:          & 0.117    & Prob(JB):         & 0.000      \\\\\n",
       "Kurtosis:      & 5.546    & Condition No.:    & 3          \\\\\n",
       "\\hline\n",
       "\\end{tabular}\n",
       "\\end{center}\n",
       "\\end{table}\n",
       "\\bigskip\n",
       "Notes: \\newline \n",
       "[1] Standard Errors assume that the covariance matrix of the errors is correctly specified."
      ],
      "text/plain": [
       "<class 'statsmodels.iolib.summary2.Summary'>\n",
       "\"\"\"\n",
       "                   Results: Ordinary least squares\n",
       "=====================================================================\n",
       "Model:              OLS              Adj. R-squared:     0.802       \n",
       "Dependent Variable: y                AIC:                -131777.6902\n",
       "Date:               2023-10-20 01:33 BIC:                -131618.6336\n",
       "No. Observations:   85500            Log-Likelihood:     65906.      \n",
       "Df Model:           16               F-statistic:        2.169e+04   \n",
       "Df Residuals:       85483            Prob (F-statistic): 0.00        \n",
       "R-squared:          0.802            Scale:              0.012534    \n",
       "---------------------------------------------------------------------\n",
       "                     Coef.  Std.Err.     t     P>|t|   [0.025  0.975]\n",
       "---------------------------------------------------------------------\n",
       "const                0.6420   0.0004 1676.7987 0.0000  0.6413  0.6428\n",
       "artists              0.0506   0.0005   94.1007 0.0000  0.0496  0.0517\n",
       "popularity          -0.0029   0.0004   -7.5058 0.0000 -0.0037 -0.0021\n",
       "duration_ms          0.0015   0.0004    3.7313 0.0002  0.0007  0.0022\n",
       "explicit            -0.0026   0.0004   -6.3591 0.0000 -0.0034 -0.0018\n",
       "danceability        -0.0271   0.0005  -57.7553 0.0000 -0.0280 -0.0262\n",
       "key                  0.0005   0.0004    1.2605 0.2075 -0.0003  0.0012\n",
       "loudness             0.1114   0.0006  191.6778 0.0000  0.1103  0.1126\n",
       "mode                -0.0027   0.0004   -6.9433 0.0000 -0.0035 -0.0019\n",
       "speechiness          0.0217   0.0004   51.7388 0.0000  0.0209  0.0225\n",
       "acousticness        -0.0748   0.0006 -132.9598 0.0000 -0.0759 -0.0737\n",
       "instrumentalness     0.0335   0.0005   74.1420 0.0000  0.0326  0.0344\n",
       "liveness             0.0213   0.0004   52.9467 0.0000  0.0205  0.0221\n",
       "valence              0.0376   0.0005   80.3390 0.0000  0.0367  0.0386\n",
       "tempo                0.0054   0.0004   13.4448 0.0000  0.0046  0.0062\n",
       "time_signature       0.0050   0.0004   12.5617 0.0000  0.0042  0.0058\n",
       "track_genre          0.0260   0.0006   45.9513 0.0000  0.0249  0.0271\n",
       "---------------------------------------------------------------------\n",
       "Omnibus:             5310.370       Durbin-Watson:          1.994    \n",
       "Prob(Omnibus):       0.000          Jarque-Bera (JB):       23284.542\n",
       "Skew:                0.117          Prob(JB):               0.000    \n",
       "Kurtosis:            5.546          Condition No.:          3        \n",
       "=====================================================================\n",
       "Notes:\n",
       "[1] Standard Errors assume that the covariance matrix of the errors\n",
       "is correctly specified.\n",
       "\"\"\""
      ]
     },
     "execution_count": 9,
     "metadata": {},
     "output_type": "execute_result"
    }
   ],
   "source": [
    "models[0][1].summary2()\n",
    "\n"
   ]
  },
  {
   "cell_type": "markdown",
   "metadata": {
    "id": "yLcvGlUZy-Qt"
   },
   "source": [
    "#### 5. [1 балл] Реализуйте один из алгоритмов отбора признаков (Elimination by P-value, Forward elimination, Backward elimination), сделайте выводы."
   ]
  },
  {
   "cell_type": "code",
   "execution_count": null,
   "metadata": {
    "id": "TnrbRbkwy-Qt"
   },
   "outputs": [],
   "source": [
    "# your code here \n",
    "#╰( ͡° ͜ʖ ͡° )つ──☆*:・ﾟ"
   ]
  },
  {
   "cell_type": "markdown",
   "metadata": {
    "id": "df0eQLdNy-Qt"
   },
   "source": [
    "#### 6. [1 балл] Найдите лучший (по RMSE) $\\alpha$ для регрессиии Lasso, используя кросс-валидацию на 5 фолдов. Вы должны выбрать значение из промежутка $[10^{-4}, 10^{3}]$."
   ]
  },
  {
   "cell_type": "code",
   "execution_count": null,
   "metadata": {
    "id": "JPoT3YHqy-Qt"
   },
   "outputs": [],
   "source": [
    "# your code here\n",
    "#╰( ͡° ͜ʖ ͡° )つ──☆*:・ﾟ"
   ]
  },
  {
   "cell_type": "markdown",
   "metadata": {
    "id": "Q1PKinJUy-Qt"
   },
   "source": [
    "## Градиентный спуск\n",
    "\n",
    "#### 7. [3.5 балла] Имплементируйте  Ridge регрессию для MSE loss, обученную на градиентом спуске.\n",
    "\n",
    "\n",
    "Все вычисления должны быть векторизованы, а циклы Python можно использовать только для итераций градиентного спуска. В качестве критерия остановки необходимо использовать (одновременно):\n",
    "\n",
    "* проверка абсолютной нормы разницы весов на двух соседних итерациях (например, меньше некоторого малого числа порядка $10^{-6}$, заданного параметром `tolerance`);\n",
    "\n",
    "* достижение максимального количества итераций (например, 10000, заданного параметром `max_iter`).\n",
    "\n",
    "Вам необходимо выполнить:\n",
    "\n",
    "* Полный градиентный спуск:\n",
    "\n",
    "$$\n",
    "w_{k + 1} = w_{k} - \\eta_{k} \\nabla_{w} Q(w_{k}).\n",
    "$$\n",
    "\n",
    "* Стохастический градиентный спуск:\n",
    "\n",
    "$$\n",
    "w_{k + 1} = w_{k} - \\eta_{k} \\nabla_{w} q_{i_{k}}(w_{k}).\n",
    "$$\n",
    "\n",
    "$\\nabla_{w} q_{i_{k}}(w_{k}) \\, $ является оценкой градиента по набору объектов, выбранных случайным образом.\n",
    "\n",
    "* Momentum method:\n",
    "\n",
    "$$\n",
    "h_0 = 0, \\\\\n",
    "h_{k + 1} = \\alpha h_{k} + \\eta_k \\nabla_{w} Q(w_{k}), \\\\\n",
    "w_{k + 1} = w_{k} - h_{k + 1}.\n",
    "$$\n",
    "\n",
    "* Adagrad method:\n",
    "\n",
    "$$\n",
    "G_0 = 0, \\\\\n",
    "G_{k + 1} = G_{k} + (\\nabla_{w} Q(w_{k+1}))^2, \\\\\n",
    "w_{k + 1} = w_{k} - \\eta * \\frac{\\nabla_{w} Q(w_{k+1})}{\\sqrt{G_{k+1} + \\epsilon}}.\n",
    "$$\n",
    "\n",
    "Чтобы убедиться, что процесс оптимизации действительно выполняется, мы будем использовать атрибут класса `loss_history`. После вызова метода fit он должен содержать значения функции потерь для всех итераций, начиная с первой (до первого шага по антиградиенту).\n",
    "\n",
    "\n",
    "Вам нужно инициализировать веса случайным вектором из нормального распределения. Ниже приведен шаблон, который должен содержать код, реализующий все варианты моделей."
   ]
  },
  {
   "cell_type": "code",
   "execution_count": null,
   "metadata": {
    "id": "oI39UzCLy-Qu"
   },
   "outputs": [],
   "source": [
    "from sklearn.base import BaseEstimator\n",
    "\n",
    "class LinReg(BaseEstimator):\n",
    "    def __init__(self, delta=1.0, gd_type='Momentum', \n",
    "                 tolerance=1e-4, max_iter=1000, w0=None, eta=1e-2, alpha=1e-3):\n",
    "        \"\"\"\n",
    "        gd_type: str\n",
    "            'GradientDescent', 'StochasticDescent', 'Momentum', 'Adagrad'\n",
    "        delta: float\n",
    "            proportion of object in a batch (for stochastic GD)\n",
    "        tolerance: float\n",
    "            for stopping gradient descent\n",
    "        max_iter: int\n",
    "            maximum number of steps in gradient descent\n",
    "        w0: np.array of shape (d)\n",
    "            init weights\n",
    "        eta: float\n",
    "            learning rate\n",
    "        alpha: float\n",
    "            momentum coefficient\n",
    "        reg_cf: float\n",
    "            regularization coefficient\n",
    "        epsilon: float\n",
    "            numerical stability\n",
    "        \"\"\"\n",
    "        \n",
    "        self.delta = delta\n",
    "        self.gd_type = gd_type\n",
    "        self.tolerance = tolerance\n",
    "        self.max_iter = max_iter\n",
    "        self.w0 = w0\n",
    "        self.alpha = alpha\n",
    "        self.w = None\n",
    "        self.eta = eta\n",
    "        self.loss_history = None # list of loss function values at each training iteration\n",
    "    \n",
    "    def fit(self, X, y):\n",
    "        \"\"\"\n",
    "        X: np.array of shape (l, d)\n",
    "        y: np.array of shape (l)\n",
    "        ---\n",
    "        output: self\n",
    "        \"\"\"\n",
    "        self.loss_history = []\n",
    "\n",
    "        return self\n",
    "    \n",
    "    def predict(self, X):\n",
    "        if self.w is None:\n",
    "            raise Exception('Not trained yet')\n",
    "        \n",
    "        pass\n",
    "    \n",
    "    def calc_gradient(self, X, y):\n",
    "        \"\"\"\n",
    "        X: np.array of shape (l, d) (l can be equal to 1 if stochastic)\n",
    "        y: np.array of shape (l)\n",
    "        ---\n",
    "        output: np.array of shape (d)\n",
    "        \"\"\"\n",
    "        pass\n",
    "\n",
    "    def calc_loss(self, X, y):\n",
    "        \"\"\"\n",
    "        X: np.array of shape (l, d)\n",
    "        y: np.array of shape (l)\n",
    "        ---\n",
    "        output: float \n",
    "        \"\"\" \n",
    "        pass"
   ]
  },
  {
   "cell_type": "markdown",
   "metadata": {
    "id": "1QQJEjGVy-Qu"
   },
   "source": [
    "#### 8. [1 балл] Натренируйте и провалидируйте \"ручные\" модели на тех же даннных, сравните качество с моделями из Sklearn и StatsModels. Исследуйте влияние параметров `max_iter` и `alpha` на процесс оптимизации. Соответствует ли оно вашим ожиданиям?"
   ]
  },
  {
   "cell_type": "code",
   "execution_count": null,
   "metadata": {
    "id": "rIJNcxt_y-Qu"
   },
   "outputs": [],
   "source": [
    "# your code here \n",
    "#╰( ͡° ͜ʖ ͡° )つ──☆*:・ﾟ"
   ]
  },
  {
   "cell_type": "markdown",
   "metadata": {
    "id": "bqYtVqv-y-Qu"
   },
   "source": [
    "#### 9. [1 балл] Постройте графики (там же) зависимости значения функции потерь от номера итерации для всех моделей (полного градиентого спуска, стохастического гс, Momentum и Adagrad). Сделайте выводы о скорости сходимости различных модификаций градиентного спуска.\n",
    "\n",
    "\n",
    "Не забывайте о том, как должен выглядеть *красивый* график!"
   ]
  },
  {
   "cell_type": "code",
   "execution_count": null,
   "metadata": {
    "id": "Xbwhu8BSy-Qu"
   },
   "outputs": [],
   "source": [
    "# your code here \n",
    "#╰( ͡° ͜ʖ ͡° )つ──☆*:・ﾟ"
   ]
  }
 ],
 "metadata": {
  "colab": {
   "provenance": []
  },
  "kernelspec": {
   "display_name": "Python 3 (ipykernel)",
   "language": "python",
   "name": "python3"
  },
  "language_info": {
   "codemirror_mode": {
    "name": "ipython",
    "version": 3
   },
   "file_extension": ".py",
   "mimetype": "text/x-python",
   "name": "python",
   "nbconvert_exporter": "python",
   "pygments_lexer": "ipython3",
   "version": "3.9.16"
  }
 },
 "nbformat": 4,
 "nbformat_minor": 4
}
